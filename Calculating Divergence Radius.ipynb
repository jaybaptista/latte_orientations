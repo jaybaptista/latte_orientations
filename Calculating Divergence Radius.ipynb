{
 "cells": [
  {
   "cell_type": "code",
   "execution_count": 1,
   "metadata": {},
   "outputs": [],
   "source": [
    "import pandas as pd\n",
    "import numpy as np"
   ]
  },
  {
   "cell_type": "code",
   "execution_count": 2,
   "metadata": {},
   "outputs": [],
   "source": [
    "r = np.arange(0, 410, step=10)\n",
    "\n",
    "rad_i = pd.read_hdf(\"radii_m12i_res7100.hdf\")\n",
    "rad_w = pd.read_hdf(\"radii_m12w_res7100.hdf\")\n",
    "rad_m = pd.read_hdf(\"radii_m12m_res7100.hdf\")\n",
    "\n",
    "angle_m_sidm = pd.read_hdf(\"_data_obliquityAngles_z0_SIDM_m12m.h5\")[\"angle\"]\n",
    "angle_i = pd.read_hdf(\"_data_obliquityAngles_z0_m12i.h5\")[\"angle\"]\n",
    "angle_w = pd.read_hdf(\"_data_obliquityAngles_z0_m12w.h5\")[\"angle\"]\n",
    "angle_m = pd.read_hdf(\"_data_obliquityAngles_z0_m12m.h5\")[\"angle\"]"
   ]
  },
  {
   "cell_type": "code",
   "execution_count": 6,
   "metadata": {},
   "outputs": [
    {
     "data": {
      "text/plain": [
       "230"
      ]
     },
     "execution_count": 6,
     "metadata": {},
     "output_type": "execute_result"
    }
   ],
   "source": [
    "div_r_m_sidm = r[np.where(angle_m_sidm > 20)[0][0]]\n",
    "div_r_m_sidm"
   ]
  },
  {
   "cell_type": "code",
   "execution_count": 7,
   "metadata": {},
   "outputs": [
    {
     "name": "stdout",
     "output_type": "stream",
     "text": [
      "0.8217220435869954 10.0\n"
     ]
    }
   ],
   "source": [
    "print(div_r_m_sidm / 279.9, div_r_m_sidm / 23.0)"
   ]
  },
  {
   "cell_type": "code",
   "execution_count": 4,
   "metadata": {
    "scrolled": true
   },
   "outputs": [],
   "source": [
    "r = np.arange(2, 402, step=2)\n",
    "div_r_m = r[np.where(angle_m > 20)[0][0]]\n",
    "div_r_i = r[np.where(angle_i > 20)[0][0]]\n",
    "div_r_w = r[np.where(angle_w > 20)[0][0]]"
   ]
  },
  {
   "cell_type": "code",
   "execution_count": 5,
   "metadata": {},
   "outputs": [],
   "source": [
    "div_r_m_vir = div_r_m / rad_m[\"virial\"]\n",
    "div_r_i_vir = div_r_i / rad_i[\"virial\"]\n",
    "div_r_w_vir = div_r_w / rad_w[\"virial\"]"
   ]
  },
  {
   "cell_type": "code",
   "execution_count": 6,
   "metadata": {},
   "outputs": [],
   "source": [
    "div_r_m_rs90 = div_r_m / rad_m[\"star.radius.90\"]\n",
    "div_r_i_rs90 = div_r_i / rad_i[\"star.radius.90\"]\n",
    "div_r_w_rs90 = div_r_w / rad_w[\"star.radius.90\"]"
   ]
  },
  {
   "cell_type": "code",
   "execution_count": 7,
   "metadata": {},
   "outputs": [],
   "source": [
    "df = pd.DataFrame(\n",
    "    {\n",
    "        \"m12m\": {\n",
    "            \"radius\": div_r_m,\n",
    "            \"virial_frac\": div_r_m_vir[0],\n",
    "            \"rs90_frac\": div_r_m_rs90[0],\n",
    "        },\n",
    "        \"m12i\": {\n",
    "            \"radius\": div_r_i,\n",
    "            \"virial_frac\": div_r_i_vir[0],\n",
    "            \"rs90_frac\": div_r_i_rs90[0],\n",
    "        },\n",
    "        \"m12w\": {\n",
    "            \"radius\": div_r_w,\n",
    "            \"virial_frac\": div_r_w_vir[0],\n",
    "            \"rs90_frac\": div_r_w_rs90[0],\n",
    "        },\n",
    "    }\n",
    ")"
   ]
  },
  {
   "cell_type": "code",
   "execution_count": 8,
   "metadata": {},
   "outputs": [
    {
     "data": {
      "text/html": [
       "<div>\n",
       "<style scoped>\n",
       "    .dataframe tbody tr th:only-of-type {\n",
       "        vertical-align: middle;\n",
       "    }\n",
       "\n",
       "    .dataframe tbody tr th {\n",
       "        vertical-align: top;\n",
       "    }\n",
       "\n",
       "    .dataframe thead th {\n",
       "        text-align: right;\n",
       "    }\n",
       "</style>\n",
       "<table border=\"1\" class=\"dataframe\">\n",
       "  <thead>\n",
       "    <tr style=\"text-align: right;\">\n",
       "      <th></th>\n",
       "      <th>m12m</th>\n",
       "      <th>m12i</th>\n",
       "      <th>m12w</th>\n",
       "    </tr>\n",
       "  </thead>\n",
       "  <tbody>\n",
       "    <tr>\n",
       "      <th>radius</th>\n",
       "      <td>124.000000</td>\n",
       "      <td>64.000000</td>\n",
       "      <td>96.000000</td>\n",
       "    </tr>\n",
       "    <tr>\n",
       "      <th>virial_frac</th>\n",
       "      <td>0.362983</td>\n",
       "      <td>0.203704</td>\n",
       "      <td>0.319447</td>\n",
       "    </tr>\n",
       "    <tr>\n",
       "      <th>rs90_frac</th>\n",
       "      <td>9.825000</td>\n",
       "      <td>7.035160</td>\n",
       "      <td>11.122950</td>\n",
       "    </tr>\n",
       "  </tbody>\n",
       "</table>\n",
       "</div>"
      ],
      "text/plain": [
       "                   m12m       m12i       m12w\n",
       "radius       124.000000  64.000000  96.000000\n",
       "virial_frac    0.362983   0.203704   0.319447\n",
       "rs90_frac      9.825000   7.035160  11.122950"
      ]
     },
     "execution_count": 8,
     "metadata": {},
     "output_type": "execute_result"
    }
   ],
   "source": [
    "df"
   ]
  },
  {
   "cell_type": "code",
   "execution_count": null,
   "metadata": {},
   "outputs": [],
   "source": []
  }
 ],
 "metadata": {
  "kernelspec": {
   "display_name": "Python 3",
   "language": "python",
   "name": "python3"
  },
  "language_info": {
   "codemirror_mode": {
    "name": "ipython",
    "version": 3
   },
   "file_extension": ".py",
   "mimetype": "text/x-python",
   "name": "python",
   "nbconvert_exporter": "python",
   "pygments_lexer": "ipython3",
   "version": "3.8.5"
  }
 },
 "nbformat": 4,
 "nbformat_minor": 4
}
