{
 "cells": [
  {
   "cell_type": "code",
   "execution_count": 1,
   "metadata": {},
   "outputs": [],
   "source": [
    "import numpy as np\n",
    "import utilities as ut\n",
    "import gizmo_analysis as gizmo\n",
    "from ob import getMinAngle, getAngularMomentum, getSymmetryAxes\n",
    "import pandas as pd"
   ]
  },
  {
   "cell_type": "code",
   "execution_count": 2,
   "metadata": {},
   "outputs": [],
   "source": [
    "gals = [\n",
    "    'm12f_cdm-only',\n",
    "    'm12i_cdm-only',\n",
    "    'm12m_cdm-only'\n",
    "]"
   ]
  },
  {
   "cell_type": "code",
   "execution_count": null,
   "metadata": {},
   "outputs": [
    {
     "name": "stdout",
     "output_type": "stream",
     "text": [
      "m12f_sidm1\n",
      "\n",
      "# in utilities.simulation.Snapshot():\n",
      "* reading:  data/m12f_sidm1/snapshot_scale-factors.txt\n",
      "\n",
      "* input redshift = 0:  using snapshot index = 60, redshift = 0.000\n",
      "\n",
      "\n",
      "# in gizmo_analysis.gizmo_io.Read():\n",
      "* reading header from:  data/m12f_sidm1/output/snapdir_060/snapshot_060.0.hdf5\n",
      "  snapshot contains the following number of particles:\n",
      "    dark      (id = 1): 81344236 particles\n",
      "    dark2     (id = 2): 7086235 particles\n",
      "    gas       (id = 0): 69203466 particles\n",
      "    star      (id = 4): 12216214 particles\n",
      "    blackhole (id = 5): 0 particles\n",
      "\n",
      "* reading species: ['dark']\n",
      "* reading dark properties: ['id', 'id.child', 'id.generation', 'mass', 'position', 'velocity']\n",
      "* reading particles from:\n",
      "    snapshot_060.0.hdf5\n",
      "    snapshot_060.1.hdf5\n",
      "    snapshot_060.2.hdf5\n",
      "    snapshot_060.3.hdf5\n",
      "    snapshot_060.4.hdf5\n",
      "    snapshot_060.5.hdf5\n",
      "    snapshot_060.6.hdf5\n",
      "    snapshot_060.7.hdf5\n",
      "\n",
      "! cannot find MUSIC config file:  data/m12f_sidm1/*/*.conf\n",
      "! missing cosmological parameters, assuming the following (from AGORA):\n",
      "  assuming omega_baryon = 0.0455\n",
      "  assuming sigma_8 = 0.807\n",
      "  assuming n_s = 0.961\n",
      "\n"
     ]
    }
   ],
   "source": [
    "%%time\n",
    "\n",
    "for sim in gals:\n",
    "    \n",
    "    print(sim)\n",
    "    \n",
    "    df = {\n",
    "        'tensors': [],\n",
    "        'angle': []\n",
    "    }\n",
    "    \n",
    "    sim_dir = '../data/' + sim\n",
    "    \n",
    "    part = gizmo.io.Read.read_snapshots(['dark'], 'redshift', 0, sim_dir, assign_hosts_rotation=True)\n",
    "\n",
    "    positions = part['dark'].prop('host.distance')\n",
    "    dists = part['dark'].prop('host.distance.total')\n",
    "    \n",
    "    t0 = getSymmetryAxes(positions, dists, radius = 10)\n",
    "    host_min_ax = t0[2]\n",
    "    \n",
    "    for i in np.arange(10, 410, step = 10):\n",
    "        tensor = getSymmetryAxes(positions, dists, radius = i)\n",
    "        angle = getMinAngle(tensor[2], host_min_ax) * 180/np.pi\n",
    "        df['tensors'].append(tensor)\n",
    "        df['angle'].append(angle)\n",
    "    \n",
    "    df = pd.DataFrame(df)\n",
    "    df.to_hdf('_data_obliquityAngles_z0_DMO_{}.h5'.format(sim[:4]), 'w')"
   ]
  },
  {
   "cell_type": "code",
   "execution_count": null,
   "metadata": {},
   "outputs": [],
   "source": []
  }
 ],
 "metadata": {
  "kernelspec": {
   "display_name": "Python 3",
   "language": "python",
   "name": "python3"
  },
  "language_info": {
   "codemirror_mode": {
    "name": "ipython",
    "version": 3
   },
   "file_extension": ".py",
   "mimetype": "text/x-python",
   "name": "python",
   "nbconvert_exporter": "python",
   "pygments_lexer": "ipython3",
   "version": "3.8.5"
  }
 },
 "nbformat": 4,
 "nbformat_minor": 4
}
