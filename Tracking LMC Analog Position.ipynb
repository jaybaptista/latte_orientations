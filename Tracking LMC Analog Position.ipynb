{
 "cells": [
  {
   "cell_type": "code",
   "execution_count": 1,
   "metadata": {},
   "outputs": [],
   "source": [
    "from ob import trackHaloPosition\n",
    "from astropy.table import Table\n",
    "import pandas as pd"
   ]
  },
  {
   "cell_type": "code",
   "execution_count": 2,
   "metadata": {},
   "outputs": [],
   "source": [
    "gals = [\"m12f_res7100\", \"m12i_res7100\", \"m12w_res7100\", \"m12m_res7100\"]"
   ]
  },
  {
   "cell_type": "code",
   "execution_count": 3,
   "metadata": {},
   "outputs": [],
   "source": [
    "ref = pd.read_hdf(\"data_lmc_metadata.hdf5\")"
   ]
  },
  {
   "cell_type": "code",
   "execution_count": 4,
   "metadata": {},
   "outputs": [
    {
     "name": "stdout",
     "output_type": "stream",
     "text": [
      "m12f_res7100\n",
      "\n",
      "# in utilities.simulation.Snapshot():\n",
      "* reading:  data/latte_metaldiff/m12f_res7100/snapshot_times.txt\n",
      "\n",
      "\n",
      "# in halo_analysis.halo_io.IO():\n",
      "* read 28366111 halos from:  data/latte_metaldiff/m12f_res7100/halo/rockstar_dm/catalog_hdf5/tree.hdf5\n",
      "\n",
      "m12i_res7100\n",
      "\n",
      "# in utilities.simulation.Snapshot():\n",
      "* reading:  data/latte_metaldiff/m12i_res7100/snapshot_times.txt\n",
      "\n"
     ]
    },
    {
     "name": "stderr",
     "output_type": "stream",
     "text": [
      "/srv/conda/envs/notebook/lib/python3.7/site-packages/astropy/io/misc/hdf5.py:283: UserWarning: table path was not set via the path= argument; using default path __astropy_table__\n",
      "  \"using default path {}\".format(path))\n"
     ]
    },
    {
     "name": "stdout",
     "output_type": "stream",
     "text": [
      "* read 17859917 halos from:  data/latte_metaldiff/m12i_res7100/halo/rockstar_dm/catalog_hdf5/tree.hdf5\n",
      "\n",
      "m12w_res7100\n",
      "\n",
      "# in utilities.simulation.Snapshot():\n",
      "* reading:  data/latte_metaldiff/m12w_res7100/snapshot_times.txt\n",
      "\n",
      "* read 21364789 halos from:  data/latte_metaldiff/m12w_res7100/halo/rockstar_dm/catalog_hdf5/tree.hdf5\n",
      "\n",
      "m12m_res7100\n",
      "\n",
      "# in utilities.simulation.Snapshot():\n",
      "* reading:  data/latte_metaldiff/m12m_res7100/snapshot_times.txt\n",
      "\n",
      "* read 39355082 halos from:  data/latte_metaldiff/m12m_res7100/halo/rockstar_dm/catalog_hdf5/tree.hdf5\n",
      "\n"
     ]
    }
   ],
   "source": [
    "for sim in gals:\n",
    "    print(sim)\n",
    "    sim_dir = \"../data/latte_metaldiff/\" + sim\n",
    "    d = trackHaloPosition(sim_dir, ref[sim[:4]][\"tree.idx\"])\n",
    "    df = Table(d)\n",
    "    df.write(\"lmc_positions_{}.h5\".format(sim), overwrite=True)"
   ]
  },
  {
   "cell_type": "code",
   "execution_count": 5,
   "metadata": {},
   "outputs": [
    {
     "data": {
      "text/html": [
       "<div><i>Table length=584</i>\n",
       "<table id=\"table139967244670160\" class=\"table-striped table-bordered table-condensed\">\n",
       "<thead><tr><th>snapshot</th><th>position [3]</th></tr></thead>\n",
       "<thead><tr><th>int32</th><th>float32</th></tr></thead>\n",
       "<tr><td>17</td><td>113.916565 .. -105.14868</td></tr>\n",
       "<tr><td>18</td><td>116.00366 .. -106.709435</td></tr>\n",
       "<tr><td>19</td><td>118.19895 .. -108.277306</td></tr>\n",
       "<tr><td>20</td><td>120.34838 .. -109.73616</td></tr>\n",
       "<tr><td>21</td><td>122.13172 .. -111.60005</td></tr>\n",
       "<tr><td>22</td><td>124.27302 .. -112.644714</td></tr>\n",
       "<tr><td>23</td><td>126.09801 .. -114.322426</td></tr>\n",
       "<tr><td>24</td><td>127.78031 .. -115.884476</td></tr>\n",
       "<tr><td>25</td><td>129.52983 .. -117.39773</td></tr>\n",
       "<tr><td>26</td><td>131.13945 .. -118.89492</td></tr>\n",
       "<tr><td>...</td><td>...</td></tr>\n",
       "<tr><td>591</td><td>0.0 .. 0.0</td></tr>\n",
       "<tr><td>592</td><td>0.0 .. 0.0</td></tr>\n",
       "<tr><td>593</td><td>0.0 .. 0.0</td></tr>\n",
       "<tr><td>594</td><td>0.0 .. 0.0</td></tr>\n",
       "<tr><td>595</td><td>0.0 .. 0.0</td></tr>\n",
       "<tr><td>596</td><td>0.0 .. 0.0</td></tr>\n",
       "<tr><td>597</td><td>0.0 .. 0.0</td></tr>\n",
       "<tr><td>598</td><td>0.0 .. 0.0</td></tr>\n",
       "<tr><td>599</td><td>0.0 .. 0.0</td></tr>\n",
       "<tr><td>600</td><td>0.0 .. 0.0</td></tr>\n",
       "</table></div>"
      ],
      "text/plain": [
       "<Table length=584>\n",
       "snapshot       position [3]      \n",
       " int32           float32         \n",
       "-------- ------------------------\n",
       "      17 113.916565 .. -105.14868\n",
       "      18 116.00366 .. -106.709435\n",
       "      19 118.19895 .. -108.277306\n",
       "      20  120.34838 .. -109.73616\n",
       "      21  122.13172 .. -111.60005\n",
       "      22 124.27302 .. -112.644714\n",
       "      23 126.09801 .. -114.322426\n",
       "      24 127.78031 .. -115.884476\n",
       "      25  129.52983 .. -117.39773\n",
       "      26  131.13945 .. -118.89492\n",
       "     ...                      ...\n",
       "     591               0.0 .. 0.0\n",
       "     592               0.0 .. 0.0\n",
       "     593               0.0 .. 0.0\n",
       "     594               0.0 .. 0.0\n",
       "     595               0.0 .. 0.0\n",
       "     596               0.0 .. 0.0\n",
       "     597               0.0 .. 0.0\n",
       "     598               0.0 .. 0.0\n",
       "     599               0.0 .. 0.0\n",
       "     600               0.0 .. 0.0"
      ]
     },
     "execution_count": 5,
     "metadata": {},
     "output_type": "execute_result"
    }
   ],
   "source": [
    "df"
   ]
  },
  {
   "cell_type": "code",
   "execution_count": 6,
   "metadata": {},
   "outputs": [],
   "source": [
    "import matplotlib.pyplot as plt"
   ]
  },
  {
   "cell_type": "code",
   "execution_count": 8,
   "metadata": {},
   "outputs": [
    {
     "data": {
      "text/plain": [
       "[<matplotlib.lines.Line2D at 0x7f4ca1ce4990>]"
      ]
     },
     "execution_count": 8,
     "metadata": {},
     "output_type": "execute_result"
    },
    {
     "data": {
      "image/png": "[encoded data removed]",
      "text/plain": [
       "<Figure size 432x288 with 1 Axes>"
      ]
     },
     "metadata": {
      "needs_background": "light"
     },
     "output_type": "display_data"
    }
   ],
   "source": [
    "plt.plot(df[\"position\"][:, 0], df[\"position\"][:, 2])"
   ]
  },
  {
   "cell_type": "code",
   "execution_count": null,
   "metadata": {},
   "outputs": [],
   "source": []
  }
 ],
 "metadata": {
  "kernelspec": {
   "display_name": "Python 3 (ipykernel)",
   "language": "python",
   "name": "python3"
  },
  "language_info": {
   "codemirror_mode": {
    "name": "ipython",
    "version": 3
   },
   "file_extension": ".py",
   "mimetype": "text/x-python",
   "name": "python",
   "nbconvert_exporter": "python",
   "pygments_lexer": "ipython3",
   "version": "3.8.10"
  }
 },
 "nbformat": 4,
 "nbformat_minor": 4
}
