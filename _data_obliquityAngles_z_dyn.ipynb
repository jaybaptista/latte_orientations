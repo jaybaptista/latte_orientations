{
 "cells": [
  {
   "cell_type": "code",
   "execution_count": 1,
   "metadata": {},
   "outputs": [],
   "source": [
    "import numpy as np\n",
    "import utilities as ut\n",
    "import gizmo_analysis as gizmo\n",
    "from ob import getMinAngle, getAngularMomentum, getSymmetryAxes\n",
    "import pandas as pd\n",
    "\n",
    "gals = [\"m12f_res7100\", \"m12i_res7100\", \"m12w_res7100\", \"m12m_res7100\"]\n",
    "\n",
    "for sim in gals:\n",
    "    sim_dir = \"../data/latte_metaldiff/\" + sim\n",
    "\n",
    "    step = 50\n",
    "\n",
    "    if sim == \"m12i_res7100\" or sim == \"m12m_res7100\":\n",
    "        step = 60\n",
    "\n",
    "    radii_data = pd.read_hdf(\"radii_{}.hdf\".format(sim))\n",
    "    r_vir = radii_data[\"virial\"][0]\n",
    "    rs90 = radii_data[\"star.radius.90\"][0]\n",
    "\n",
    "    radii = [r_vir, rs90, 5 * rs90]\n",
    "    snapshot_range = np.arange(0, 600 + step, step=step)\n",
    "\n",
    "    df = {\"virial\": [], \"disk\": [], \"5.disk\": []}  # disk is star.radius.90\n",
    "\n",
    "    for k in np.arange(0, 3):\n",
    "\n",
    "        for snap in snapshot_range:\n",
    "\n",
    "            part = gizmo.io.Read.read_snapshots([\"dark\"], \"snapshot\", snap, sim_dir)\n",
    "            host_min_ax = part.host[\"rotation\"][0, 2]\n",
    "\n",
    "            positions = part[\"dark\"].prop(\"host.distance\")\n",
    "            dists = part[\"dark\"].prop(\"host.distance.total\")\n",
    "\n",
    "            tensor = getSymmetryAxes(positions, dists, radius=radii[k])\n",
    "            angle = getMinAngle(tensor[2], host_min_ax) * 180 / np.pi\n",
    "\n",
    "            df[list(df.keys())[k]].append(angle)\n",
    "\n",
    "    d = pd.DataFrame(df)\n",
    "    d[\"snapshot\"] = snapshot_range\n",
    "    d.to_hdf(\"data_obliquityAngles_z_dyn_{}.h5\".format(sim), \"w\")"
   ]
  },
  {
   "cell_type": "code",
   "execution_count": null,
   "metadata": {},
   "outputs": [],
   "source": [
    "df"
   ]
  },
  {
   "cell_type": "code",
   "execution_count": 1,
   "metadata": {},
   "outputs": [],
   "source": [
    "import os.path as path"
   ]
  },
  {
   "cell_type": "code",
   "execution_count": 5,
   "metadata": {},
   "outputs": [
    {
     "data": {
      "text/plain": [
       "'hello'"
      ]
     },
     "execution_count": 5,
     "metadata": {},
     "output_type": "execute_result"
    }
   ],
   "source": [
    "path.split(\"../../thing/hello\")[-1]"
   ]
  },
  {
   "cell_type": "code",
   "execution_count": null,
   "metadata": {},
   "outputs": [],
   "source": []
  }
 ],
 "metadata": {
  "kernelspec": {
   "display_name": "Python 3 (ipykernel)",
   "language": "python",
   "name": "python3"
  },
  "language_info": {
   "codemirror_mode": {
    "name": "ipython",
    "version": 3
   },
   "file_extension": ".py",
   "mimetype": "text/x-python",
   "name": "python",
   "nbconvert_exporter": "python",
   "pygments_lexer": "ipython3",
   "version": "3.8.10"
  }
 },
 "nbformat": 4,
 "nbformat_minor": 4
}
