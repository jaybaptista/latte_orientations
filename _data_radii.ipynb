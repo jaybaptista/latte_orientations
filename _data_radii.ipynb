{
 "cells": [
  {
   "cell_type": "code",
   "execution_count": 3,
   "metadata": {},
   "outputs": [],
   "source": [
    "import halo_analysis as halo\n",
    "import numpy as np\n",
    "import pandas as pd"
   ]
  },
  {
   "cell_type": "code",
   "execution_count": 33,
   "metadata": {},
   "outputs": [],
   "source": [
    "gals = [\n",
    "    'm12f_res7100',\n",
    "    'm12i_res7100',\n",
    "    'm12w_res7100',\n",
    "    'm12m_res7100'\n",
    "]\n",
    "\n",
    "def scaleRadii(sim_dir, snapshot):\n",
    "    halt = halo.io.IO.read_tree(simulation_directory=sim_dir, species='star', species_snapshot_indices=[snapshot])\n",
    "    current_idx = np.where((halt['snapshot'] == 600))\n",
    "    r_vir     = halt['radius'][halt['host.index'][current_idx]][0]\n",
    "    r_star_90 = halt['star.radius.90'][halt['host.index'][current_idx]][0]\n",
    "    \n",
    "    df = {\n",
    "        'virial': [r_vir],\n",
    "        'star.radius.90': [r_star_90]\n",
    "    }\n",
    "    \n",
    "    return pd.DataFrame(df)"
   ]
  },
  {
   "cell_type": "code",
   "execution_count": 34,
   "metadata": {},
   "outputs": [
    {
     "name": "stdout",
     "output_type": "stream",
     "text": [
      "\n",
      "# in utilities.simulation.Snapshot():\n",
      "* reading:  data/latte_metaldiff/m12f_res7100/snapshot_times.txt\n",
      "\n",
      "* read 28366111 halos from:  data/latte_metaldiff/m12f_res7100/halo/rockstar_dm/catalog_hdf5/tree.hdf5\n",
      "  \n",
      "* assigning ['star'] properties to halo merger trees\n",
      "* read 59184 halos, 63 have star particles, from:  data/latte_metaldiff/m12f_res7100/halo/rockstar_dm/catalog_hdf5/star_600.hdf5\n",
      "\n",
      "# in utilities.simulation.Snapshot():\n",
      "* reading:  data/latte_metaldiff/m12f_res7100/snapshot_times.txt\n",
      "\n",
      "  dark2.mass\n",
      "  star.form.time.100\n",
      "  star.form.time.50\n",
      "  star.form.time.90\n",
      "  star.form.time.95\n",
      "  star.form.time.dif.68\n",
      "  star.indices\n",
      "  star.mass\n",
      "  star.massfraction\n",
      "  star.number\n",
      "  star.position\n",
      "  star.radius.50\n",
      "  star.radius.90\n",
      "  star.vel.circ.50\n",
      "  star.vel.std\n",
      "  star.vel.std.50\n",
      "  star.velocity\n",
      "\n",
      "\n",
      "# in utilities.simulation.Snapshot():\n",
      "* reading:  data/latte_metaldiff/m12i_res7100/snapshot_times.txt\n",
      "\n",
      "* read 17859917 halos from:  data/latte_metaldiff/m12i_res7100/halo/rockstar_dm/catalog_hdf5/tree.hdf5\n",
      "  \n",
      "* assigning ['star'] properties to halo merger trees\n",
      "* read 35833 halos, 33 have star particles, from:  data/latte_metaldiff/m12i_res7100/halo/rockstar_dm/catalog_hdf5/star_600.hdf5\n",
      "\n",
      "# in utilities.simulation.Snapshot():\n",
      "* reading:  data/latte_metaldiff/m12i_res7100/snapshot_times.txt\n",
      "\n",
      "  dark2.mass\n",
      "  star.form.time.100\n",
      "  star.form.time.50\n",
      "  star.form.time.90\n",
      "  star.form.time.95\n",
      "  star.form.time.dif.68\n",
      "  star.indices\n",
      "  star.mass\n",
      "  star.massfraction\n",
      "  star.number\n",
      "  star.position\n",
      "  star.radius.50\n",
      "  star.radius.90\n",
      "  star.vel.circ.50\n",
      "  star.vel.std\n",
      "  star.vel.std.50\n",
      "  star.velocity\n",
      "\n",
      "\n",
      "# in utilities.simulation.Snapshot():\n",
      "* reading:  data/latte_metaldiff/m12w_res7100/snapshot_times.txt\n",
      "\n",
      "* read 21364789 halos from:  data/latte_metaldiff/m12w_res7100/halo/rockstar_dm/catalog_hdf5/tree.hdf5\n",
      "  \n",
      "* assigning ['star'] properties to halo merger trees\n",
      "* read 42263 halos, 55 have star particles, from:  data/latte_metaldiff/m12w_res7100/halo/rockstar_dm/catalog_hdf5/star_600.hdf5\n",
      "\n",
      "# in utilities.simulation.Snapshot():\n",
      "* reading:  data/latte_metaldiff/m12w_res7100/snapshot_times.txt\n",
      "\n",
      "  star.form.time.100\n",
      "  star.form.time.50\n",
      "  star.form.time.90\n",
      "  star.form.time.95\n",
      "  star.form.time.dif.68\n",
      "  star.indices\n",
      "  star.mass\n",
      "  star.massfraction\n",
      "  star.number\n",
      "  star.position\n",
      "  star.radius.50\n",
      "  star.radius.90\n",
      "  star.vel.circ.50\n",
      "  star.vel.std\n",
      "  star.vel.std.50\n",
      "  star.velocity\n",
      "\n",
      "\n",
      "# in utilities.simulation.Snapshot():\n",
      "* reading:  data/latte_metaldiff/m12m_res7100/snapshot_times.txt\n",
      "\n",
      "* read 39355082 halos from:  data/latte_metaldiff/m12m_res7100/halo/rockstar_dm/catalog_hdf5/tree.hdf5\n",
      "  \n",
      "* assigning ['star'] properties to halo merger trees\n",
      "* read 81298 halos, 123 have star particles, from:  data/latte_metaldiff/m12m_res7100/halo/rockstar_dm/catalog_hdf5/star_600.hdf5\n",
      "\n",
      "# in utilities.simulation.Snapshot():\n",
      "* reading:  data/latte_metaldiff/m12m_res7100/snapshot_times.txt\n",
      "\n",
      "  dark2.mass\n",
      "  star.form.time.100\n",
      "  star.form.time.50\n",
      "  star.form.time.90\n",
      "  star.form.time.95\n",
      "  star.form.time.dif.68\n",
      "  star.indices\n",
      "  star.mass\n",
      "  star.massfraction\n",
      "  star.number\n",
      "  star.position\n",
      "  star.radius.50\n",
      "  star.radius.90\n",
      "  star.vel.circ.50\n",
      "  star.vel.std\n",
      "  star.vel.std.50\n",
      "  star.velocity\n",
      "  \n",
      "! snapshot 600: 4 halos have star particles but are not in tree\n",
      "  max M_star = 6.0e+05\n",
      "\n"
     ]
    }
   ],
   "source": [
    "for sim in gals:\n",
    "    sim_dir = '../data/latte_metaldiff/' + sim\n",
    "    df = scaleRadii(sim_dir, 600)\n",
    "    df.to_hdf('radii_{}.hdf'.format(sim), 'w')"
   ]
  },
  {
   "cell_type": "code",
   "execution_count": 2,
   "metadata": {},
   "outputs": [
    {
     "name": "stdout",
     "output_type": "stream",
     "text": [
      "\n",
      "# in utilities.simulation.Snapshot():\n",
      "* reading:  data/latte_metaldiff/m12f_res7100/snapshot_times.txt\n",
      "\n",
      "\n",
      "# in halo_analysis.halo_io.IO():\n",
      "* read 28366111 halos from:  data/latte_metaldiff/m12f_res7100/halo/rockstar_dm/catalog_hdf5/tree.hdf5\n",
      "  \n",
      "* assigning ['star'] properties to halo merger trees\n",
      "\n",
      "# in halo_analysis.halo_io.Particle():\n",
      "* read 59184 halos, 63 have star particles, from:  data/latte_metaldiff/m12f_res7100/halo/rockstar_dm/catalog_hdf5/star_600.hdf5\n",
      "\n",
      "# in utilities.simulation.Snapshot():\n",
      "* reading:  data/latte_metaldiff/m12f_res7100/snapshot_times.txt\n",
      "\n",
      "! cannot find star particle pointer file at snapshot 600 in ../data/latte_metaldiff/m12f_res7100/\n",
      "  dark2.mass\n",
      "  star.form.time.100\n",
      "  star.form.time.50\n",
      "  star.form.time.90\n",
      "  star.form.time.95\n",
      "  star.form.time.dif.68\n",
      "  star.indices\n",
      "  star.mass\n",
      "  star.massfraction\n",
      "  star.number\n",
      "  star.position\n",
      "  star.radius.50\n",
      "  star.radius.90\n",
      "  star.vel.circ.50\n",
      "  star.vel.std\n",
      "  star.vel.std.50\n",
      "  star.velocity\n",
      "\n"
     ]
    }
   ],
   "source": [
    "halt = halo.io.IO.read_tree(simulation_directory='../data/latte_metaldiff/m12f_res7100', species='star', species_snapshot_indices=[600], assign_species_pointers=True)"
   ]
  },
  {
   "cell_type": "code",
   "execution_count": 4,
   "metadata": {},
   "outputs": [
    {
     "data": {
      "text/html": [
       "<div>\n",
       "<style scoped>\n",
       "    .dataframe tbody tr th:only-of-type {\n",
       "        vertical-align: middle;\n",
       "    }\n",
       "\n",
       "    .dataframe tbody tr th {\n",
       "        vertical-align: top;\n",
       "    }\n",
       "\n",
       "    .dataframe thead th {\n",
       "        text-align: right;\n",
       "    }\n",
       "</style>\n",
       "<table border=\"1\" class=\"dataframe\">\n",
       "  <thead>\n",
       "    <tr style=\"text-align: right;\">\n",
       "      <th></th>\n",
       "      <th>virial</th>\n",
       "      <th>star.radius.90</th>\n",
       "    </tr>\n",
       "  </thead>\n",
       "  <tbody>\n",
       "    <tr>\n",
       "      <th>0</th>\n",
       "      <td>341.613953</td>\n",
       "      <td>12.620866</td>\n",
       "    </tr>\n",
       "  </tbody>\n",
       "</table>\n",
       "</div>"
      ],
      "text/plain": [
       "       virial  star.radius.90\n",
       "0  341.613953       12.620866"
      ]
     },
     "execution_count": 4,
     "metadata": {},
     "output_type": "execute_result"
    }
   ],
   "source": [
    "pd.read_hdf('radii_m12m_res7100.hdf')"
   ]
  },
  {
   "cell_type": "code",
   "execution_count": 37,
   "metadata": {},
   "outputs": [
    {
     "data": {
      "text/plain": [
       "array([-1., -1., -1., ..., -1., -1., -1.], dtype=float32)"
      ]
     },
     "execution_count": 37,
     "metadata": {},
     "output_type": "execute_result"
    }
   ],
   "source": [
    "halt['star.radius.90']"
   ]
  },
  {
   "cell_type": "code",
   "execution_count": 16,
   "metadata": {},
   "outputs": [
    {
     "data": {
      "text/plain": [
       "dict_keys(['am.phantom', 'am.progenitor.main', 'axis.b/a', 'axis.c/a', 'catalog.index', 'central.index', 'central.local.index', 'descendant.index', 'descendant.snapshot', 'dindex', 'final.index', 'host.distance', 'host.index', 'host.velocity', 'host.velocity.rad', 'host.velocity.tan', 'major.merger.snapshot', 'mass', 'mass.180m', 'mass.200c', 'mass.200m', 'mass.500c', 'mass.bound', 'mass.lowres', 'mass.vir', 'position', 'position.offset', 'progenitor.co.dindex', 'progenitor.co.index', 'progenitor.last.dindex', 'progenitor.main.index', 'progenitor.main.last.dindex', 'progenitor.number', 'radius', 'scale.radius', 'scale.radius.klypin', 'snapshot', 'spin.bullock', 'spin.peebles', 'tid', 'vel.circ.max', 'vel.std', 'velocity', 'velocity.offset', 'dark2.mass', 'star.form.time.100', 'star.form.time.50', 'star.form.time.90', 'star.form.time.95', 'star.form.time.dif.68', 'star.indices', 'star.mass', 'star.massfraction', 'star.number', 'star.position', 'star.radius.50', 'star.radius.90', 'star.vel.circ.50', 'star.vel.std', 'star.vel.std.50', 'star.velocity'])"
      ]
     },
     "execution_count": 16,
     "metadata": {},
     "output_type": "execute_result"
    }
   ],
   "source": [
    "print()"
   ]
  },
  {
   "cell_type": "code",
   "execution_count": 47,
   "metadata": {
    "scrolled": true
   },
   "outputs": [
    {
     "data": {
      "text/plain": [
       "array([  981831,  3577119,  4061758,  4527938,  4702402,  4821545,\n",
       "        4889516,  4979056,  5090844,  5143219,  5193817,  5228384,\n",
       "        5319841,  5354881,  5485030,  5498371,  5566400,  5580672,\n",
       "        5591198,  5610045,  5643171,  5683520,  5710028,  5724591,\n",
       "        5781622,  5802785,  5809222,  5848383,  5867351,  5891526,\n",
       "        5981970,  5991827,  6005677,  6026627,  6039560,  6050201,\n",
       "        6076409,  6098373,  6122923,  6128820,  6147823,  6214528,\n",
       "        6225999,  6232757,  6237993,  6252835,  6270053,  6280962,\n",
       "        6295775,  6312513,  6348746,  6351870,  6369436,  6382315,\n",
       "        6387171,  6441160,  6472283,  6509797,  6569600,  6577453,\n",
       "        6596546,  6612391,  6615819,  6631605,  6642473,  6655721,\n",
       "        6683415,  6685691,  6767204,  6826903,  6836375,  6841032,\n",
       "        6853398,  6856983,  6923721,  6963320,  6972297,  7029830,\n",
       "        7073932,  7129766,  7137943,  7144886,  7189047,  7266567,\n",
       "        7287434,  7294162,  7380864,  7425604,  7450829,  7485482,\n",
       "        7554884,  7563358,  7570686,  7668562,  7684980,  7689894,\n",
       "        7815786,  7972678,  8185697,  8237804,  8365803,  8483592,\n",
       "        8736912,  8746507,  8747240,  8972824,  9035113,  9107513,\n",
       "        9246950,  9500027,  9614366,  9927009, 10269704, 10277315,\n",
       "       10361995, 10733111, 11780781, 15024762, 15478128])"
      ]
     },
     "execution_count": 47,
     "metadata": {},
     "output_type": "execute_result"
    }
   ],
   "source": [
    "np.where(halt['star.radius.90'] != -1)[0]"
   ]
  },
  {
   "cell_type": "code",
   "execution_count": 49,
   "metadata": {},
   "outputs": [
    {
     "data": {
      "text/plain": [
       "0"
      ]
     },
     "execution_count": 49,
     "metadata": {},
     "output_type": "execute_result"
    }
   ],
   "source": [
    "\n",
    "np.argmax(halt['mass.bound'][np.where(halt['star.radius.90'] != -1)[0]])"
   ]
  },
  {
   "cell_type": "code",
   "execution_count": 5,
   "metadata": {},
   "outputs": [
    {
     "data": {
      "text/plain": [
       "0"
      ]
     },
     "execution_count": 5,
     "metadata": {},
     "output_type": "execute_result"
    }
   ],
   "source": [
    "np.where((halt['snapshot'] == 600) & (halt['star.radius.90'] != -1))[0][0]"
   ]
  },
  {
   "cell_type": "code",
   "execution_count": 9,
   "metadata": {},
   "outputs": [
    {
     "ename": "TypeError",
     "evalue": "unhashable type: 'numpy.ndarray'",
     "output_type": "error",
     "traceback": [
      "\u001b[0;31m---------------------------------------------------------------------------\u001b[0m",
      "\u001b[0;31mTypeError\u001b[0m                                 Traceback (most recent call last)",
      "\u001b[0;32m<ipython-input-9-28b0ca41294c>\u001b[0m in \u001b[0;36m<module>\u001b[0;34m\u001b[0m\n\u001b[0;32m----> 1\u001b[0;31m \u001b[0mhalt\u001b[0m\u001b[0;34m[\u001b[0m\u001b[0mnp\u001b[0m\u001b[0;34m.\u001b[0m\u001b[0mwhere\u001b[0m\u001b[0;34m(\u001b[0m\u001b[0mhalt\u001b[0m\u001b[0;34m[\u001b[0m\u001b[0;34m'snapshot'\u001b[0m\u001b[0;34m]\u001b[0m\u001b[0;34m==\u001b[0m\u001b[0;36m600\u001b[0m\u001b[0;34m)\u001b[0m\u001b[0;34m[\u001b[0m\u001b[0;36m0\u001b[0m\u001b[0;34m]\u001b[0m\u001b[0;34m]\u001b[0m\u001b[0;34m\u001b[0m\u001b[0;34m\u001b[0m\u001b[0m\n\u001b[0m",
      "\u001b[0;31mTypeError\u001b[0m: unhashable type: 'numpy.ndarray'"
     ]
    }
   ],
   "source": [
    "halt[np.where(halt['snapshot']==600)[0]]"
   ]
  },
  {
   "cell_type": "code",
   "execution_count": 32,
   "metadata": {},
   "outputs": [
    {
     "data": {
      "text/plain": [
       "array([354.66098, 354.66098, 354.66098, ..., 354.66098, 354.66098,\n",
       "       354.66098], dtype=float32)"
      ]
     },
     "execution_count": 32,
     "metadata": {},
     "output_type": "execute_result"
    }
   ],
   "source": [
    "halt['radius'][halt['host.index'][np.where(halt['snapshot']==600)]]"
   ]
  },
  {
   "cell_type": "code",
   "execution_count": null,
   "metadata": {},
   "outputs": [],
   "source": []
  }
 ],
 "metadata": {
  "kernelspec": {
   "display_name": "Python 3",
   "language": "python",
   "name": "python3"
  },
  "language_info": {
   "codemirror_mode": {
    "name": "ipython",
    "version": 3
   },
   "file_extension": ".py",
   "mimetype": "text/x-python",
   "name": "python",
   "nbconvert_exporter": "python",
   "pygments_lexer": "ipython3",
   "version": "3.7.8"
  }
 },
 "nbformat": 4,
 "nbformat_minor": 4
}
