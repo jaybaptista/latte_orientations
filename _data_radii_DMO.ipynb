{
 "cells": [
  {
   "cell_type": "code",
   "execution_count": 14,
   "metadata": {},
   "outputs": [],
   "source": [
    "import halo_analysis as halo\n",
    "import gizmo_analysis as gizmo\n",
    "import numpy as np\n",
    "import pandas as pd"
   ]
  },
  {
   "cell_type": "code",
   "execution_count": 15,
   "metadata": {},
   "outputs": [],
   "source": [
    "gals = [\n",
    "    \"m12f_cdm-only\",\n",
    "    \"m12i_cdm-only\",\n",
    "    \"m12m_cdm-only\",\n",
    "    #     'm12f_sidm1',\n",
    "    #     'm12i_sidm1',\n",
    "    #     'm12m_sidm1'\n",
    "]\n",
    "\n",
    "\n",
    "def scaleRadii(sim_dir, snapshot):\n",
    "    halt = halo.io.IO.read_tree(\n",
    "        simulation_directory=sim_dir,\n",
    "        species=\"dark\",\n",
    "        species_snapshot_indices=[snapshot],\n",
    "    )\n",
    "    current_idx = np.where((halt[\"snapshot\"] == 600))\n",
    "    r_vir = halt[\"radius\"][halt[\"host.index\"][current_idx]][0]\n",
    "    #     r_star_90 = halt['star.radius.90'][halt['host.index'][current_idx]][0]\n",
    "\n",
    "    df = {\n",
    "        \"virial\": [r_vir],\n",
    "        #         'star.radius.90': [r_star_90]\n",
    "    }\n",
    "\n",
    "    return pd.DataFrame(df)"
   ]
  },
  {
   "cell_type": "code",
   "execution_count": 16,
   "metadata": {},
   "outputs": [
    {
     "name": "stdout",
     "output_type": "stream",
     "text": [
      "\n",
      "# in utilities.simulation.Snapshot():\n",
      "* reading:  data/m12f_cdm-only/snapshot_times.txt\n",
      "\n",
      "* read 31954327 halos from:  data/m12f_cdm-only/halo/rockstar_dm/catalog_hdf5/tree.hdf5\n",
      "! cannot find halo dark files in:  data/m12f_cdm-only/halo/rockstar_dm/catalog_hdf5/\n",
      "! found no halo ['dark'] files in:  ../data/m12f_cdm-only/halo/rockstar_dm/\n",
      "\n",
      "\n",
      "# in utilities.simulation.Snapshot():\n",
      "* reading:  data/m12i_cdm-only/snapshot_times.txt\n",
      "\n",
      "* read 21036919 halos from:  data/m12i_cdm-only/halo/rockstar_dm/catalog_hdf5/tree.hdf5\n",
      "! cannot find halo dark files in:  data/m12i_cdm-only/halo/rockstar_dm/catalog_hdf5/\n",
      "! found no halo ['dark'] files in:  ../data/m12i_cdm-only/halo/rockstar_dm/\n",
      "\n",
      "\n",
      "# in utilities.simulation.Snapshot():\n",
      "* reading:  data/m12m_cdm-only/snapshot_times.txt\n",
      "\n",
      "* read 45181061 halos from:  data/m12m_cdm-only/halo/rockstar_dm/catalog_hdf5/tree.hdf5\n",
      "! cannot find halo dark files in:  data/m12m_cdm-only/halo/rockstar_dm/catalog_hdf5/\n",
      "! found no halo ['dark'] files in:  ../data/m12m_cdm-only/halo/rockstar_dm/\n",
      "\n"
     ]
    }
   ],
   "source": [
    "for sim in gals:\n",
    "    sim_dir = \"../data/\" + sim\n",
    "    df = scaleRadii(sim_dir, 60)\n",
    "    df.to_hdf(\"radii_DMO_{}.hdf\".format(sim), \"w\")"
   ]
  },
  {
   "cell_type": "code",
   "execution_count": 18,
   "metadata": {},
   "outputs": [],
   "source": [
    "df_f_cdm = pd.read_hdf(f\"radii_DMO_{gals[0]}.hdf\")\n",
    "df_i_cdm = pd.read_hdf(f\"radii_DMO_{gals[1]}.hdf\")\n",
    "df_m_cdm = pd.read_hdf(f\"radii_DMO_{gals[2]}.hdf\")"
   ]
  },
  {
   "cell_type": "code",
   "execution_count": 19,
   "metadata": {},
   "outputs": [
    {
     "data": {
      "text/html": [
       "<div>\n",
       "<style scoped>\n",
       "    .dataframe tbody tr th:only-of-type {\n",
       "        vertical-align: middle;\n",
       "    }\n",
       "\n",
       "    .dataframe tbody tr th {\n",
       "        vertical-align: top;\n",
       "    }\n",
       "\n",
       "    .dataframe thead th {\n",
       "        text-align: right;\n",
       "    }\n",
       "</style>\n",
       "<table border=\"1\" class=\"dataframe\">\n",
       "  <thead>\n",
       "    <tr style=\"text-align: right;\">\n",
       "      <th></th>\n",
       "      <th>virial</th>\n",
       "    </tr>\n",
       "  </thead>\n",
       "  <tbody>\n",
       "    <tr>\n",
       "      <th>0</th>\n",
       "      <td>383.71225</td>\n",
       "    </tr>\n",
       "  </tbody>\n",
       "</table>\n",
       "</div>"
      ],
      "text/plain": [
       "      virial\n",
       "0  383.71225"
      ]
     },
     "execution_count": 19,
     "metadata": {},
     "output_type": "execute_result"
    }
   ],
   "source": [
    "df_f_cdm"
   ]
  },
  {
   "cell_type": "code",
   "execution_count": 20,
   "metadata": {},
   "outputs": [
    {
     "data": {
      "text/html": [
       "<div>\n",
       "<style scoped>\n",
       "    .dataframe tbody tr th:only-of-type {\n",
       "        vertical-align: middle;\n",
       "    }\n",
       "\n",
       "    .dataframe tbody tr th {\n",
       "        vertical-align: top;\n",
       "    }\n",
       "\n",
       "    .dataframe thead th {\n",
       "        text-align: right;\n",
       "    }\n",
       "</style>\n",
       "<table border=\"1\" class=\"dataframe\">\n",
       "  <thead>\n",
       "    <tr style=\"text-align: right;\">\n",
       "      <th></th>\n",
       "      <th>virial</th>\n",
       "    </tr>\n",
       "  </thead>\n",
       "  <tbody>\n",
       "    <tr>\n",
       "      <th>0</th>\n",
       "      <td>339.317657</td>\n",
       "    </tr>\n",
       "  </tbody>\n",
       "</table>\n",
       "</div>"
      ],
      "text/plain": [
       "       virial\n",
       "0  339.317657"
      ]
     },
     "execution_count": 20,
     "metadata": {},
     "output_type": "execute_result"
    }
   ],
   "source": [
    "df_i_cdm"
   ]
  },
  {
   "cell_type": "code",
   "execution_count": 21,
   "metadata": {},
   "outputs": [
    {
     "data": {
      "text/html": [
       "<div>\n",
       "<style scoped>\n",
       "    .dataframe tbody tr th:only-of-type {\n",
       "        vertical-align: middle;\n",
       "    }\n",
       "\n",
       "    .dataframe tbody tr th {\n",
       "        vertical-align: top;\n",
       "    }\n",
       "\n",
       "    .dataframe thead th {\n",
       "        text-align: right;\n",
       "    }\n",
       "</style>\n",
       "<table border=\"1\" class=\"dataframe\">\n",
       "  <thead>\n",
       "    <tr style=\"text-align: right;\">\n",
       "      <th></th>\n",
       "      <th>virial</th>\n",
       "    </tr>\n",
       "  </thead>\n",
       "  <tbody>\n",
       "    <tr>\n",
       "      <th>0</th>\n",
       "      <td>364.501434</td>\n",
       "    </tr>\n",
       "  </tbody>\n",
       "</table>\n",
       "</div>"
      ],
      "text/plain": [
       "       virial\n",
       "0  364.501434"
      ]
     },
     "execution_count": 21,
     "metadata": {},
     "output_type": "execute_result"
    }
   ],
   "source": [
    "df_m_cdm"
   ]
  },
  {
   "cell_type": "code",
   "execution_count": null,
   "metadata": {},
   "outputs": [],
   "source": []
  }
 ],
 "metadata": {
  "kernelspec": {
   "display_name": "Python 3",
   "language": "python",
   "name": "python3"
  },
  "language_info": {
   "codemirror_mode": {
    "name": "ipython",
    "version": 3
   },
   "file_extension": ".py",
   "mimetype": "text/x-python",
   "name": "python",
   "nbconvert_exporter": "python",
   "pygments_lexer": "ipython3",
   "version": "3.7.8"
  }
 },
 "nbformat": 4,
 "nbformat_minor": 4
}
