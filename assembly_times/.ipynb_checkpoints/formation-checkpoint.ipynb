{
 "cells": [
  {
   "cell_type": "code",
   "execution_count": 1,
   "id": "b01e9edb",
   "metadata": {},
   "outputs": [],
   "source": [
    "import gizmo_analysis as gizmo\n",
    "import numpy as np\n",
    "from astropy.io.ascii import read\n",
    "import matplotlib.pyplot as plt"
   ]
  },
  {
   "cell_type": "code",
   "execution_count": 2,
   "id": "3bc2cae5",
   "metadata": {},
   "outputs": [
    {
     "name": "stdout",
     "output_type": "stream",
     "text": [
      "\n",
      "# in utilities.simulation.Snapshot():\n",
      "* reading:  data/latte_metaldiff/m12i_res7100/snapshot_times.txt\n",
      "\n",
      "* input redshift = 0:  using snapshot index = 600, redshift = 0.000\n",
      "\n",
      "\n",
      "# in gizmo_analysis.gizmo_io.Read():\n",
      "* reading header from:  data/latte_metaldiff/m12i_res7100/output/snapdir_600/snapshot_600.0.hdf5\n",
      "  snapshot contains the following number of particles:\n",
      "    dark      (id = 1): 70514272 particles\n",
      "    dark2     (id = 2): 5513331 particles\n",
      "    gas       (id = 0): 57060074 particles\n",
      "    star      (id = 4): 13976485 particles\n",
      "    blackhole (id = 5): 0 particles\n",
      "\n",
      "* reading species: ['star']\n",
      "* reading particles from:\n",
      "    snapshot_600.0.hdf5\n",
      "    snapshot_600.1.hdf5\n",
      "    snapshot_600.2.hdf5\n",
      "    snapshot_600.3.hdf5\n",
      "\n",
      "* reading cosmological parameters from:  data/latte_metaldiff/m12i_res7100/initial_condition/ic_agora_m12i.conf\n",
      "\n",
      "* checking sanity of particle properties\n",
      "\n",
      "\n",
      "# in gizmo_analysis.gizmo_track.ParticleCoordinate():\n",
      "  read 1 host (position, velocity, principal axes) from:  data/latte_metaldiff/m12i_res7100/track/host_coordinates.hdf5\n",
      "  host1 position = (41792.15, 44131.23, 46267.68) [kpc comoving]\n",
      "  host1 velocity = (-52.2, 73.6, 94.7) [km / s]\n",
      "  host1 axis ratios = (0.16, 0.16, 0.99)\n",
      "  \n",
      "  read formation coordinates for star particles at snapshot 600\n",
      "\n"
     ]
    }
   ],
   "source": [
    "sim_dir = '../../../data/latte_metaldiff/m12i_res7100/'\n",
    "part = gizmo.io.Read.read_snapshots(['star'], 'redshift', 0, sim_dir, assign_hosts_rotation=True, assign_formation_coordinates=True,)"
   ]
  },
  {
   "cell_type": "code",
   "execution_count": 3,
   "id": "8f32dd24",
   "metadata": {
    "scrolled": true
   },
   "outputs": [
    {
     "name": "stdout",
     "output_type": "stream",
     "text": [
      "palettable colormaps are not installed\n",
      "don't have phil's colormaps\n",
      "Missing firefly, obtain it at http://github.com/ageller/Firefly or pip install firefly.\n",
      "FIRE studio is not installed, Galaxy.get_HSML will not work\n"
     ]
    }
   ],
   "source": [
    "%load_ext autoreload\n",
    "%autoreload 2\n",
    "import jmb_utils as jb"
   ]
  },
  {
   "cell_type": "code",
   "execution_count": 49,
   "id": "238b1b9b",
   "metadata": {
    "scrolled": true
   },
   "outputs": [
    {
     "name": "stdout",
     "output_type": "stream",
     "text": [
      "0\n",
      "50\n",
      "100\n",
      "150\n",
      "200\n",
      "250\n",
      "300\n",
      "350\n",
      "400\n",
      "450\n"
     ]
    }
   ],
   "source": [
    "a, b = jb.calculateAssemblyTime(\n",
    "    part, assembly_radius=15, threshold=0.5, disk_size=300\n",
    ")"
   ]
  },
  {
   "cell_type": "code",
   "execution_count": 50,
   "id": "43abd92f",
   "metadata": {},
   "outputs": [
    {
     "data": {
      "text/plain": [
       "0.43944884713274135"
      ]
     },
     "execution_count": 50,
     "metadata": {},
     "output_type": "execute_result"
    }
   ],
   "source": [
    "a[np.where(b > 0.5)[0][0]]"
   ]
  },
  {
   "cell_type": "code",
   "execution_count": null,
   "id": "82b49654",
   "metadata": {},
   "outputs": [],
   "source": []
  }
 ],
 "metadata": {
  "kernelspec": {
   "display_name": "Python 3 (ipykernel)",
   "language": "python",
   "name": "python3"
  },
  "language_info": {
   "codemirror_mode": {
    "name": "ipython",
    "version": 3
   },
   "file_extension": ".py",
   "mimetype": "text/x-python",
   "name": "python",
   "nbconvert_exporter": "python",
   "pygments_lexer": "ipython3",
   "version": "3.8.10"
  }
 },
 "nbformat": 4,
 "nbformat_minor": 5
}
