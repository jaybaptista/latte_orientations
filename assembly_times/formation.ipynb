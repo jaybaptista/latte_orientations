{
 "cells": [
  {
   "cell_type": "code",
   "execution_count": 1,
   "id": "b01e9edb",
   "metadata": {},
   "outputs": [],
   "source": [
    "import gizmo_analysis as gizmo\n",
    "import numpy as np\n",
    "from astropy.io.ascii import read\n",
    "import matplotlib.pyplot as plt"
   ]
  },
  {
   "cell_type": "code",
   "execution_count": 2,
   "id": "3bc2cae5",
   "metadata": {
    "scrolled": false
   },
   "outputs": [
    {
     "name": "stdout",
     "output_type": "stream",
     "text": [
      "\n",
      "# in utilities.simulation.Snapshot():\n",
      "* reading:  data/latte_metaldiff/m12i_res7100/snapshot_times.txt\n",
      "\n",
      "* input redshift = 0:  using snapshot index = 600, redshift = 0.000\n",
      "\n",
      "\n",
      "# in gizmo_analysis.gizmo_io.Read():\n",
      "* reading header from:  data/latte_metaldiff/m12i_res7100/output/snapdir_600/snapshot_600.0.hdf5\n",
      "  snapshot contains the following number of particles:\n",
      "    dark      (id = 1): 70514272 particles\n",
      "    dark2     (id = 2): 5513331 particles\n",
      "    gas       (id = 0): 57060074 particles\n",
      "    star      (id = 4): 13976485 particles\n",
      "    blackhole (id = 5): 0 particles\n",
      "\n",
      "* reading the following\n",
      "  species: ['star']\n",
      "\n",
      "* reading particles from:\n",
      "    snapshot_600.0.hdf5\n",
      "    snapshot_600.1.hdf5\n",
      "    snapshot_600.2.hdf5\n",
      "    snapshot_600.3.hdf5\n",
      "\n",
      "* reading cosmological parameters from:  data/latte_metaldiff/m12i_res7100/initial_condition/ic_agora_m12i.conf\n",
      "\n",
      "* checking sanity of particle properties\n",
      "\n",
      "\n",
      "# in gizmo_analysis.gizmo_track.ParticleCoordinate():\n",
      "  read 1 host (position, velocity, principal axes) from:  data/latte_metaldiff/m12i_res7100/track/host_coordinates.hdf5\n",
      "  host1 position = (41792.15, 44131.23, 46267.68) [kpc comoving]\n",
      "  host1 velocity = (-52.2, 73.6, 94.7) [km / s]\n",
      "  host1 axis ratios = (0.16, 0.16, 0.99)\n",
      "  \n",
      "  read formation coordinates for star particles at snapshot 600\n",
      "\n"
     ]
    }
   ],
   "source": [
    "sim_dir = '../../../data/latte_metaldiff/m12i_res7100/'\n",
    "part = gizmo.io.Read.read_snapshots(['star'], 'redshift', 0, sim_dir, assign_hosts_rotation=True, assign_formation_coordinates=True,)"
   ]
  },
  {
   "cell_type": "code",
   "execution_count": 4,
   "id": "ff4902df",
   "metadata": {},
   "outputs": [],
   "source": [
    "import utilities as ut"
   ]
  },
  {
   "cell_type": "code",
   "execution_count": 136,
   "id": "7a47671b",
   "metadata": {},
   "outputs": [],
   "source": [
    "form_z = part[\"star\"].prop(\"form.redshift\")\n",
    "form_radii = part[\"star\"].prop(\"form.host.distance.total\")\n",
    "radii = part[\"star\"].prop(\"host.distance.total\")\n",
    "mass = part[\"star\"].prop(\"mass\")\n",
    "\n",
    "redshifts = np.linspace(0., 10, 20)\n",
    "\n",
    "dmask = radii < 15\n",
    "mmp_mask = radii < 300\n",
    "dform_mask = form_radii < 30\n",
    "\n",
    "cdf = []\n",
    "num = []\n",
    "den = []\n",
    "    \n",
    "for i in np.arange(0, len(redshifts)-1):\n",
    "    zmask = (form_z > redshifts[i])\n",
    "        \n",
    "    m1 = dmask & zmask & dform_mask\n",
    "    m2 = dmask & zmask\n",
    "        \n",
    "    total_z_mass = np.sum(mass[m1])\n",
    "    total_z0_mass = np.sum(mass[m2])\n",
    "    \n",
    "    num.append(total_z_mass)\n",
    "    den.append(total_z0_mass)\n",
    "        \n",
    "    cdf.append(total_z_mass / total_z0_mass)"
   ]
  },
  {
   "cell_type": "code",
   "execution_count": 137,
   "id": "02cff184",
   "metadata": {},
   "outputs": [
    {
     "data": {
      "text/plain": [
       "[<matplotlib.lines.Line2D at 0x7fca260ee880>]"
      ]
     },
     "execution_count": 137,
     "metadata": {},
     "output_type": "execute_result"
    },
    {
     "data": {
      "image/png": "[encoded data removed]",
      "text/plain": [
       "<Figure size 432x288 with 1 Axes>"
      ]
     },
     "metadata": {
      "needs_background": "light"
     },
     "output_type": "display_data"
    }
   ],
   "source": [
    "plt.plot(redshifts[:-1], cdf)"
   ]
  },
  {
   "cell_type": "code",
   "execution_count": 138,
   "id": "81e5d862",
   "metadata": {},
   "outputs": [
    {
     "data": {
      "image/png": "[encoded data removed]",
      "text/plain": [
       "<Figure size 432x288 with 1 Axes>"
      ]
     },
     "metadata": {
      "needs_background": "light"
     },
     "output_type": "display_data"
    }
   ],
   "source": [
    "fig, ax = plt.subplots()\n",
    "ax.plot(redshifts[:-1], np.log10(num))\n",
    "ax.plot(redshifts[:-1], np.log10(den), c='r')\n",
    "plt.show()"
   ]
  },
  {
   "cell_type": "code",
   "execution_count": 139,
   "id": "f8b2428d",
   "metadata": {},
   "outputs": [],
   "source": [
    "cdf = np.array(cdf)\n",
    "intersection_idx = np.argmin((cdf - 0.5) ** 2)\n",
    "z_intersect = redshifts[intersection_idx]\n",
    "cdf_intersect = cdf[intersection_idx]"
   ]
  },
  {
   "cell_type": "code",
   "execution_count": 140,
   "id": "f0816b69",
   "metadata": {},
   "outputs": [
    {
     "data": {
      "text/plain": [
       "3.6842105263157894"
      ]
     },
     "execution_count": 140,
     "metadata": {},
     "output_type": "execute_result"
    }
   ],
   "source": [
    "z_intersect"
   ]
  },
  {
   "cell_type": "code",
   "execution_count": 141,
   "id": "708984bc",
   "metadata": {},
   "outputs": [
    {
     "data": {
      "text/plain": [
       "0.51255286"
      ]
     },
     "execution_count": 141,
     "metadata": {},
     "output_type": "execute_result"
    }
   ],
   "source": [
    "cdf_intersect"
   ]
  },
  {
   "cell_type": "code",
   "execution_count": null,
   "id": "cd65fca8",
   "metadata": {},
   "outputs": [],
   "source": []
  }
 ],
 "metadata": {
  "kernelspec": {
   "display_name": "Python 3 (ipykernel)",
   "language": "python",
   "name": "python3"
  },
  "language_info": {
   "codemirror_mode": {
    "name": "ipython",
    "version": 3
   },
   "file_extension": ".py",
   "mimetype": "text/x-python",
   "name": "python",
   "nbconvert_exporter": "python",
   "pygments_lexer": "ipython3",
   "version": "3.8.10"
  }
 },
 "nbformat": 4,
 "nbformat_minor": 5
}
