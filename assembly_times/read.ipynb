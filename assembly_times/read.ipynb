{
 "cells": [
  {
   "cell_type": "code",
   "execution_count": 4,
   "id": "03d27521",
   "metadata": {},
   "outputs": [],
   "source": [
    "import asdf"
   ]
  },
  {
   "cell_type": "code",
   "execution_count": 5,
   "id": "b5441568",
   "metadata": {},
   "outputs": [],
   "source": [
    "cdm_data = asdf.open(\"assembly_times.asdf\")"
   ]
  },
  {
   "cell_type": "code",
   "execution_count": 7,
   "id": "e1076e4b",
   "metadata": {},
   "outputs": [
    {
     "data": {
      "text/plain": [
       "{'frac.15': 0.5061768,\n",
       " 'frac.2': 0.70223975,\n",
       " 'z.15': 4.7368421052631575,\n",
       " 'z.2': 9.473684210526315}"
      ]
     },
     "execution_count": 7,
     "metadata": {},
     "output_type": "execute_result"
    }
   ],
   "source": [
    "cdm_data[\"m12f_res7100\"]"
   ]
  },
  {
   "cell_type": "code",
   "execution_count": 8,
   "id": "deb7396a",
   "metadata": {},
   "outputs": [
    {
     "data": {
      "text/plain": [
       "{'frac.15': 0.51255286,\n",
       " 'frac.2': 0.52948135,\n",
       " 'z.15': 3.6842105263157894,\n",
       " 'z.2': 4.7368421052631575}"
      ]
     },
     "execution_count": 8,
     "metadata": {},
     "output_type": "execute_result"
    }
   ],
   "source": [
    "cdm_data[\"m12i_res7100\"]"
   ]
  },
  {
   "cell_type": "code",
   "execution_count": 9,
   "id": "7f3f068b",
   "metadata": {},
   "outputs": [
    {
     "data": {
      "text/plain": [
       "{'frac.15': 0.50240254,\n",
       " 'frac.2': 0.5166896,\n",
       " 'z.15': 5.789473684210526,\n",
       " 'z.2': 8.947368421052632}"
      ]
     },
     "execution_count": 9,
     "metadata": {},
     "output_type": "execute_result"
    }
   ],
   "source": [
    "cdm_data[\"m12m_res7100\"]"
   ]
  },
  {
   "cell_type": "code",
   "execution_count": 10,
   "id": "0570a73e",
   "metadata": {},
   "outputs": [
    {
     "data": {
      "text/plain": [
       "{'frac.15': 0.5007884,\n",
       " 'frac.2': 0.5865147,\n",
       " 'z.15': 4.7368421052631575,\n",
       " 'z.2': 9.473684210526315}"
      ]
     },
     "execution_count": 10,
     "metadata": {},
     "output_type": "execute_result"
    }
   ],
   "source": [
    "cdm_data[\"m12w_res7100\"]"
   ]
  },
  {
   "cell_type": "code",
   "execution_count": null,
   "id": "a74802df",
   "metadata": {},
   "outputs": [],
   "source": []
  }
 ],
 "metadata": {
  "kernelspec": {
   "display_name": "Python 3 (ipykernel)",
   "language": "python",
   "name": "python3"
  },
  "language_info": {
   "codemirror_mode": {
    "name": "ipython",
    "version": 3
   },
   "file_extension": ".py",
   "mimetype": "text/x-python",
   "name": "python",
   "nbconvert_exporter": "python",
   "pygments_lexer": "ipython3",
   "version": "3.8.10"
  }
 },
 "nbformat": 4,
 "nbformat_minor": 5
}
