{
 "cells": [
  {
   "cell_type": "code",
   "execution_count": 34,
   "id": "503cadb3",
   "metadata": {},
   "outputs": [],
   "source": [
    "import numpy as np\n",
    "import matplotlib.pyplot as plt\n",
    "import jmb_utils as jb\n",
    "from abg_python.galaxy import findBurstyRegime\n",
    "import pandas as pd\n",
    "import utilities as ut\n",
    "cosmology = ut.cosmology.CosmologyClass(source='agora')"
   ]
  },
  {
   "cell_type": "code",
   "execution_count": 48,
   "id": "d1d652bd",
   "metadata": {},
   "outputs": [],
   "source": [
    "sfrs = [\n",
    "    '../star_formation_rates/m12f.hdf',\n",
    "    '../star_formation_rates/m12i.hdf',\n",
    "    '../star_formation_rates/m12m.hdf',\n",
    "    '../star_formation_rates/m12w.hdf'\n",
    "]"
   ]
  },
  {
   "cell_type": "code",
   "execution_count": 49,
   "id": "08187efa",
   "metadata": {},
   "outputs": [
    {
     "name": "stdout",
     "output_type": "stream",
     "text": [
      "../star_formation_rates/m12f.hdf 0.6737207913443344\n",
      "../star_formation_rates/m12i.hdf 0.5378002062411762\n",
      "../star_formation_rates/m12m.hdf 1.9111405360054774\n",
      "../star_formation_rates/m12w.hdf 0.5454353592919254\n"
     ]
    }
   ],
   "source": [
    "for directory in sfrs:\n",
    "    sfr = pd.read_hdf(directory)\n",
    "    \n",
    "    t_bursty, scatters = findBurstyRegime(\n",
    "        time_edges=sfr.time.to_numpy(),\n",
    "        SFRs=sfr.sfr.to_numpy()\n",
    "    )\n",
    "\n",
    "    print(directory, cosmology.convert_time('redshift', 'time', t_bursty))"
   ]
  }
 ],
 "metadata": {
  "kernelspec": {
   "display_name": "Python 3 (ipykernel)",
   "language": "python",
   "name": "python3"
  },
  "language_info": {
   "codemirror_mode": {
    "name": "ipython",
    "version": 3
   },
   "file_extension": ".py",
   "mimetype": "text/x-python",
   "name": "python",
   "nbconvert_exporter": "python",
   "pygments_lexer": "ipython3",
   "version": "3.8.10"
  }
 },
 "nbformat": 4,
 "nbformat_minor": 5
}
