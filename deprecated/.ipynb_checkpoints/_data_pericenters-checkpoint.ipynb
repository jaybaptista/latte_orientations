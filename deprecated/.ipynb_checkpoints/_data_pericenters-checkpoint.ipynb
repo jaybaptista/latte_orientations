{
 "cells": [
  {
   "cell_type": "code",
   "execution_count": 9,
   "metadata": {},
   "outputs": [],
   "source": [
    "import numpy as np\n",
    "import pandas as pd\n",
    "from astropy.io.ascii import read"
   ]
  },
  {
   "cell_type": "code",
   "execution_count": 61,
   "metadata": {},
   "outputs": [
    {
     "data": {
      "text/html": [
       "<div>\n",
       "<style scoped>\n",
       "    .dataframe tbody tr th:only-of-type {\n",
       "        vertical-align: middle;\n",
       "    }\n",
       "\n",
       "    .dataframe tbody tr th {\n",
       "        vertical-align: top;\n",
       "    }\n",
       "\n",
       "    .dataframe thead th {\n",
       "        text-align: right;\n",
       "    }\n",
       "</style>\n",
       "<table border=\"1\" class=\"dataframe\">\n",
       "  <thead>\n",
       "    <tr style=\"text-align: right;\">\n",
       "      <th></th>\n",
       "      <th>m12f</th>\n",
       "      <th>m12i</th>\n",
       "      <th>m12w</th>\n",
       "      <th>m12m</th>\n",
       "    </tr>\n",
       "  </thead>\n",
       "  <tbody>\n",
       "    <tr>\n",
       "      <th>snapshot</th>\n",
       "      <td>463</td>\n",
       "      <td>356</td>\n",
       "      <td>359</td>\n",
       "      <td>290</td>\n",
       "    </tr>\n",
       "    <tr>\n",
       "      <th>tree.idx</th>\n",
       "      <td>221716</td>\n",
       "      <td>422845</td>\n",
       "      <td>403617</td>\n",
       "      <td>1821315</td>\n",
       "    </tr>\n",
       "  </tbody>\n",
       "</table>\n",
       "</div>"
      ],
      "text/plain": [
       "            m12f    m12i    m12w     m12m\n",
       "snapshot     463     356     359      290\n",
       "tree.idx  221716  422845  403617  1821315"
      ]
     },
     "execution_count": 61,
     "metadata": {},
     "output_type": "execute_result"
    }
   ],
   "source": [
    "md = pd.read_hdf('data_lmc_metadata.hdf5')\n",
    "md"
   ]
  },
  {
   "cell_type": "code",
   "execution_count": 62,
   "metadata": {},
   "outputs": [],
   "source": [
    "def cvtRedshift(z, sim = '../data/latte_metaldiff/m12i_res7100'):\n",
    "    times = sim + '/snapshot_times.txt'\n",
    "    snapshot_data = read(times, format = 'commented_header', header_start = 2)\n",
    "    return snapshot_data[np.argmin(abs(snapshot_data['redshift'] - z))]['time[Gyr]']\n",
    "\n",
    "def cvtSnapshot(snapshot, sim = '../data/latte_metaldiff/m12i_res7100'):\n",
    "    times = sim + '/snapshot_times.txt'\n",
    "    snapshot_data = read(times, format = 'commented_header', header_start = 2)\n",
    "    return snapshot_data[snapshot]['time[Gyr]']"
   ]
  },
  {
   "cell_type": "code",
   "execution_count": 63,
   "metadata": {},
   "outputs": [],
   "source": [
    "data = {\n",
    "    'm12f': {\n",
    "        'peri.z': .26,\n",
    "        'peri.t': cvtRedshift(.26, sim = '../data/latte_metaldiff/m12f_res7100'),\n",
    "        'peri.s': md['m12f']['snapshot']\n",
    "    },\n",
    "    \n",
    "    'm12i':{\n",
    "        'peri.z': .6,\n",
    "        'peri.t': cvtRedshift(.6, sim = '../data/latte_metaldiff/m12i_res7100'),\n",
    "        'peri.s': md['m12i']['snapshot']\n",
    "    },\n",
    "    \n",
    "    'm12m':{\n",
    "        'peri.z': .92,\n",
    "        'peri.t': cvtRedshift(.92, sim = '../data/latte_metaldiff/m12m_res7100'),\n",
    "        'peri.s': md['m12m']['snapshot']\n",
    "    },\n",
    "    \n",
    "    'm12w':{\n",
    "        'peri.z': .59,\n",
    "        'peri.t': cvtRedshift(.59, sim = '../data/latte_metaldiff/m12w_res7100'),\n",
    "        'peri.s': md['m12w']['snapshot']\n",
    "    },\n",
    "}\n",
    "\n",
    "data = pd.DataFrame(data)"
   ]
  },
  {
   "cell_type": "code",
   "execution_count": 64,
   "metadata": {},
   "outputs": [],
   "source": [
    "data.to_hdf('data_pericenters.h5', 'w')"
   ]
  },
  {
   "cell_type": "code",
   "execution_count": 65,
   "metadata": {},
   "outputs": [
    {
     "data": {
      "text/html": [
       "<div>\n",
       "<style scoped>\n",
       "    .dataframe tbody tr th:only-of-type {\n",
       "        vertical-align: middle;\n",
       "    }\n",
       "\n",
       "    .dataframe tbody tr th {\n",
       "        vertical-align: top;\n",
       "    }\n",
       "\n",
       "    .dataframe thead th {\n",
       "        text-align: right;\n",
       "    }\n",
       "</style>\n",
       "<table border=\"1\" class=\"dataframe\">\n",
       "  <thead>\n",
       "    <tr style=\"text-align: right;\">\n",
       "      <th></th>\n",
       "      <th>m12f</th>\n",
       "      <th>m12i</th>\n",
       "      <th>m12m</th>\n",
       "      <th>m12w</th>\n",
       "    </tr>\n",
       "  </thead>\n",
       "  <tbody>\n",
       "    <tr>\n",
       "      <th>peri.z</th>\n",
       "      <td>0.260000</td>\n",
       "      <td>0.600000</td>\n",
       "      <td>0.920000</td>\n",
       "      <td>0.590000</td>\n",
       "    </tr>\n",
       "    <tr>\n",
       "      <th>peri.t</th>\n",
       "      <td>10.741875</td>\n",
       "      <td>8.057617</td>\n",
       "      <td>6.327317</td>\n",
       "      <td>7.945755</td>\n",
       "    </tr>\n",
       "    <tr>\n",
       "      <th>peri.s</th>\n",
       "      <td>463.000000</td>\n",
       "      <td>356.000000</td>\n",
       "      <td>290.000000</td>\n",
       "      <td>359.000000</td>\n",
       "    </tr>\n",
       "  </tbody>\n",
       "</table>\n",
       "</div>"
      ],
      "text/plain": [
       "              m12f        m12i        m12m        m12w\n",
       "peri.z    0.260000    0.600000    0.920000    0.590000\n",
       "peri.t   10.741875    8.057617    6.327317    7.945755\n",
       "peri.s  463.000000  356.000000  290.000000  359.000000"
      ]
     },
     "execution_count": 65,
     "metadata": {},
     "output_type": "execute_result"
    }
   ],
   "source": [
    "data"
   ]
  },
  {
   "cell_type": "code",
   "execution_count": null,
   "metadata": {},
   "outputs": [],
   "source": []
  }
 ],
 "metadata": {
  "kernelspec": {
   "display_name": "Python 3",
   "language": "python",
   "name": "python3"
  },
  "language_info": {
   "codemirror_mode": {
    "name": "ipython",
    "version": 3
   },
   "file_extension": ".py",
   "mimetype": "text/x-python",
   "name": "python",
   "nbconvert_exporter": "python",
   "pygments_lexer": "ipython3",
   "version": "3.8.5"
  }
 },
 "nbformat": 4,
 "nbformat_minor": 4
}
