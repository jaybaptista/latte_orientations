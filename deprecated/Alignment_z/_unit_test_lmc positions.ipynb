{
 "cells": [
  {
   "cell_type": "code",
   "execution_count": 1,
   "metadata": {},
   "outputs": [],
   "source": [
    "import numpy as np\n",
    "import utilities as ut\n",
    "import gizmo_analysis as gizmo\n",
    "import halo_analysis as halo"
   ]
  },
  {
   "cell_type": "code",
   "execution_count": 2,
   "metadata": {},
   "outputs": [],
   "source": [
    "lmc_metadata = {\n",
    "    'm12f': {\n",
    "        'snapshot': 463,\n",
    "        'tree.idx': 221716\n",
    "    },\n",
    "    \n",
    "    'm12i': {\n",
    "        'snapshot': 356,\n",
    "        'tree.idx': 422845\n",
    "    },\n",
    "    \n",
    "    'm12w': {\n",
    "        'snapshot': 359,\n",
    "        'tree.idx': 403617\n",
    "    },\n",
    "    \n",
    "    'm12m': {\n",
    "        'snapshot': 290,\n",
    "        'tree.idx': 1821315\n",
    "    },\n",
    "}\n",
    "\n",
    "import pandas as pd\n",
    "\n",
    "lmc_metadata_df = pd.DataFrame(lmc_metadata)\n",
    "lmc_metadata_df.to_hdf('lmc_metadata.hdf5', 'w')"
   ]
  },
  {
   "cell_type": "code",
   "execution_count": 12,
   "metadata": {},
   "outputs": [],
   "source": [
    "def trackHaloPosition(sim_dir, ref_idx):\n",
    "    \n",
    "    df = {\n",
    "        'fs': [],\n",
    "        'fc': [],\n",
    "        'bs': [],\n",
    "        'bc': [],\n",
    "    }\n",
    "    \n",
    "    halt = halo.io.IO.read_tree(simulation_directory=sim_dir)\n",
    "    \n",
    "    tidx = ref_idx\n",
    "    \n",
    "    # Forward tracking\n",
    "    while tidx > 0:\n",
    "        df['fs'].append(halt['snapshot'][tidx])\n",
    "        df['fc'].append(halt['position'][tidx])\n",
    "        tidx = halt['descendant.index'][tidx]\n",
    "    \n",
    "    # Backward tracking\n",
    "    \n",
    "    tidx = ref_idx\n",
    "    \n",
    "    while tidx > 0:\n",
    "        df['bs'].append(halt['snapshot'][tidx])\n",
    "        df['bc'].append(halt['position'][tidx])\n",
    "        tidx = halt['progenitor.main.index'][tidx]\n",
    "        \n",
    "    df['bs'] = np.flip(df['bs'])\n",
    "    df['bc'] = np.flip(df['bc'])\n",
    "\n",
    "    dat = {\n",
    "        'snapshot': np.append(df['bs'], df['fs']),\n",
    "        'position': np.vstack([df['bc'], df['fc']])\n",
    "    }\n",
    "        \n",
    "    return dat"
   ]
  }
 ],
 "metadata": {
  "kernelspec": {
   "display_name": "Python 3 (ipykernel)",
   "language": "python",
   "name": "python3"
  },
  "language_info": {
   "codemirror_mode": {
    "name": "ipython",
    "version": 3
   },
   "file_extension": ".py",
   "mimetype": "text/x-python",
   "name": "python",
   "nbconvert_exporter": "python",
   "pygments_lexer": "ipython3",
   "version": "3.8.10"
  }
 },
 "nbformat": 4,
 "nbformat_minor": 4
}
