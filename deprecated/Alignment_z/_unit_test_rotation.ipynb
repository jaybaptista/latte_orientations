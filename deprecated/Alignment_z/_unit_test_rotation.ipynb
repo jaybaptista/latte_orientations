{
 "cells": [
  {
   "cell_type": "code",
   "execution_count": 1,
   "metadata": {},
   "outputs": [],
   "source": [
    "import numpy as np\n",
    "import utilities as ut\n",
    "import gizmo_analysis as gizmo"
   ]
  },
  {
   "cell_type": "code",
   "execution_count": 2,
   "metadata": {},
   "outputs": [],
   "source": [
    "def getAngularMomentum(pos, dist, vel, radius = 10):\n",
    "    \n",
    "    mask = dist < radius\n",
    "    pos_sel = pos[mask]\n",
    "    \n",
    "    # L = r x v (direction invariant of mass)\n",
    "    L_vector = np.median(np.cross(pos, vel), axis=0)\n",
    "    L_hat = L_vector / np.linalg.norm(L_vector) # normalize\n",
    "    return L_vector"
   ]
  },
  {
   "cell_type": "code",
   "execution_count": 28,
   "metadata": {},
   "outputs": [],
   "source": [
    "def getSymmetryAxes(pos, dist, radius):\n",
    "    print('Assigning inertia tensor at r = ', radius, 'kpc')\n",
    "    mask = dist < radius\n",
    "    pos = pos[mask]\n",
    "    \n",
    "    # Get moment of inertia tensor\n",
    "    xx = np.sum(pos[:, 0]**2 / (pos[:, 0]**2 + pos[:, 1]**2 + pos[:, 2]**2))\n",
    "    yy = np.sum(pos[:, 1]**2 / (pos[:, 0]**2 + pos[:, 1]**2 + pos[:, 2]**2)) \n",
    "    zz = np.sum(pos[:, 2]**2 / (pos[:, 0]**2 + pos[:, 1]**2 + pos[:, 2]**2))\n",
    "    xy = yx = np.sum(pos[:, 0]*pos[:, 1] / (pos[:, 0]**2 + pos[:, 1]**2 + pos[:, 2]**2))\n",
    "    xz = zx = np.sum(pos[:, 0]*pos[:, 2] / (pos[:, 0]**2 + pos[:, 1]**2 + pos[:, 2]**2))\n",
    "    zy = yz = np.sum(pos[:, 2]*pos[:, 1] / (pos[:, 0]**2 + pos[:, 1]**2 + pos[:, 2]**2))\n",
    "    \n",
    "    Im = [[xx, xy, xz], [yx, yy, yz], [zx, zy, zz]]\n",
    "    \n",
    "    e_val, e_vec = np.linalg.eig(Im)\n",
    "    sorted_idx = np.argsort(e_val)[::-1] # sort from largest to smallest (idx of 2 is minor axis)\n",
    "    sorted_val = e_val[sorted_idx]\n",
    "    sorted_vec = np.transpose(e_vec)[sorted_idx]\n",
    "    \n",
    "    # Enforce RHR onto an axis\n",
    "#     sorted_vec[2] = np.cross(sorted_vec[0], sorted_vec[1])\n",
    "    \n",
    "    return sorted_vec"
   ]
  },
  {
   "cell_type": "code",
   "execution_count": 4,
   "metadata": {},
   "outputs": [],
   "source": [
    "def getMinAngle(vec, ref):\n",
    "    # ref is the reference vector\n",
    "    # vec is the vector of interest\n",
    "    \n",
    "    vec = vec/np.linalg.norm(vec)\n",
    "    ref = ref/np.linalg.norm(ref)\n",
    "    \n",
    "    angle = np.min(\n",
    "        [np.arccos(np.dot(-1*ref, vec)),\n",
    "        np.arccos(np.dot(ref, vec))]\n",
    "    )\n",
    "    \n",
    "    return angle"
   ]
  },
  {
   "cell_type": "code",
   "execution_count": 5,
   "metadata": {},
   "outputs": [
    {
     "name": "stdout",
     "output_type": "stream",
     "text": [
      "\n",
      "# in utilities.simulation.Snapshot():\n",
      "* reading:  data/latte_metaldiff/m12i_res7100/snapshot_times.txt\n",
      "\n",
      "* input redshift = 0:  using snapshot index = 600, redshift = 0.000\n",
      "\n",
      "\n",
      "# in gizmo_analysis.gizmo_io.Read():\n",
      "* reading header from:  data/latte_metaldiff/m12i_res7100/output/snapdir_600/snapshot_600.0.hdf5\n",
      "  snapshot contains the following number of particles:\n",
      "    dark      (id = 1): 70514272 particles\n",
      "    dark2     (id = 2): 5513331 particles\n",
      "    gas       (id = 0): 57060074 particles\n",
      "    star      (id = 4): 13976485 particles\n",
      "    blackhole (id = 5): 0 particles\n",
      "\n",
      "* reading species: ['dark', 'star']\n",
      "* reading particles from:\n",
      "    snapshot_600.0.hdf5\n",
      "    snapshot_600.1.hdf5\n",
      "    snapshot_600.2.hdf5\n",
      "    snapshot_600.3.hdf5\n",
      "\n",
      "* reading cosmological parameters from:  data/latte_metaldiff/m12i_res7100/initial_condition/ic_agora_m12i.conf\n",
      "\n",
      "* checking sanity of particle properties\n",
      "\n",
      "\n",
      "# in gizmo_analysis.gizmo_track.ParticleCoordinate():\n",
      "  read 1 host (position, velocity, principal axes) from:  data/latte_metaldiff/m12i_res7100/track/host_coordinates.hdf5\n",
      "  host1 position = (41792.15, 44131.23, 46267.68) [kpc comoving]\n",
      "  host1 velocity = (-52.2, 73.6, 94.7) [km / s]\n",
      "  host1 axis ratios = (0.16, 0.16, 0.99)\n",
      "\n"
     ]
    }
   ],
   "source": [
    "sim_dir = '../data/latte_metaldiff/m12i_res7100'\n",
    "part = gizmo.io.Read.read_snapshots(['dark', 'star'], 'redshift', 0, sim_dir)"
   ]
  },
  {
   "cell_type": "code",
   "execution_count": 6,
   "metadata": {},
   "outputs": [],
   "source": [
    "positions = part['dark'].prop('host.distance')\n",
    "dists = part['dark'].prop('host.distance.total')"
   ]
  },
  {
   "cell_type": "code",
   "execution_count": 7,
   "metadata": {},
   "outputs": [],
   "source": [
    "pos_star = part['star'].prop('host.distance')\n",
    "vel_star = part['star'].prop('host.velocity')\n",
    "dist_star = part['star'].prop('host.distance.total')\n",
    "\n",
    "l_vec = getAngularMomentum(pos_star, dist_star, vel_star, radius=20)"
   ]
  },
  {
   "cell_type": "code",
   "execution_count": 29,
   "metadata": {},
   "outputs": [
    {
     "name": "stdout",
     "output_type": "stream",
     "text": [
      "R:  10\n",
      "R:  20\n",
      "R:  30\n",
      "R:  40\n",
      "R:  50\n"
     ]
    }
   ],
   "source": [
    "symm_axs = []\n",
    "for i in np.arange(10, 60, step = 10):\n",
    "    symm_axs.append(getSymmetryAxes(positions, dists, radius = i))"
   ]
  },
  {
   "cell_type": "code",
   "execution_count": 38,
   "metadata": {},
   "outputs": [],
   "source": [
    "min_ax_host = part.host['rotation'][0, 2]"
   ]
  },
  {
   "cell_type": "code",
   "execution_count": 45,
   "metadata": {},
   "outputs": [],
   "source": [
    "angle = []\n",
    "for tensor in symm_axs:\n",
    "    angle.append(getMinAngle(tensor[2], min_ax_host) * 180/np.pi)"
   ]
  },
  {
   "cell_type": "code",
   "execution_count": null,
   "metadata": {},
   "outputs": [],
   "source": []
  }
 ],
 "metadata": {
  "kernelspec": {
   "display_name": "Python 3 (ipykernel)",
   "language": "python",
   "name": "python3"
  },
  "language_info": {
   "codemirror_mode": {
    "name": "ipython",
    "version": 3
   },
   "file_extension": ".py",
   "mimetype": "text/x-python",
   "name": "python",
   "nbconvert_exporter": "python",
   "pygments_lexer": "ipython3",
   "version": "3.8.10"
  }
 },
 "nbformat": 4,
 "nbformat_minor": 4
}
