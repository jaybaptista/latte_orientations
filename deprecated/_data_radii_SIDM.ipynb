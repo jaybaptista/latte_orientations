{
 "cells": [
  {
   "cell_type": "code",
   "execution_count": 14,
   "metadata": {},
   "outputs": [],
   "source": [
    "import halo_analysis as halo\n",
    "import gizmo_analysis as gizmo\n",
    "import numpy as np\n",
    "import pandas as pd"
   ]
  },
  {
   "cell_type": "code",
   "execution_count": 11,
   "metadata": {},
   "outputs": [],
   "source": [
    "gals = [\n",
    "    #     'm12f_cdm-only',\n",
    "    #     'm12i_cdm-only',\n",
    "    #     'm12m_cdm-only',\n",
    "    #     'm12f_sidm1',\n",
    "    \"m12i_sidm1\",\n",
    "    \"m12m_sidm1\",\n",
    "]\n",
    "\n",
    "\n",
    "def scaleRadii(sim_dir, snapshot):\n",
    "    halt = halo.io.IO.read_tree(\n",
    "        simulation_directory=sim_dir,\n",
    "        species=\"star\",\n",
    "        species_snapshot_indices=[snapshot],\n",
    "    )\n",
    "    current_idx = np.where((halt[\"snapshot\"] == 60))\n",
    "    r_vir = halt[\"radius\"][halt[\"host.index\"][current_idx]][0]\n",
    "    r_star_90 = halt[\"star.radius.90\"][halt[\"host.index\"][current_idx]][0]\n",
    "\n",
    "    df = {\"virial\": [r_vir], \"star.radius.90\": [r_star_90]}\n",
    "\n",
    "    return pd.DataFrame(df)"
   ]
  },
  {
   "cell_type": "code",
   "execution_count": 12,
   "metadata": {},
   "outputs": [
    {
     "name": "stdout",
     "output_type": "stream",
     "text": [
      "\n",
      "# in utilities.simulation.Snapshot():\n",
      "* reading:  data/m12i_sidm1/snapshot_scale-factors.txt\n",
      "\n"
     ]
    },
    {
     "ename": "OSError",
     "evalue": "! cannot find halo merger tree file:  data/m12i_sidm1/halo/rockstar_dm/catalog_hdf5/tree.hdf5",
     "output_type": "error",
     "traceback": [
      "\u001b[0;31m---------------------------------------------------------------------------\u001b[0m",
      "\u001b[0;31mFileNotFoundError\u001b[0m                         Traceback (most recent call last)",
      "\u001b[0;32m~/code/halo_analysis/halo_io.py\u001b[0m in \u001b[0;36m_io_tree_hdf5\u001b[0;34m(self, rockstar_directory, halt)\u001b[0m\n\u001b[1;32m   3082\u001b[0m                 \u001b[0;31m# try to read from file\u001b[0m\u001b[0;34m\u001b[0m\u001b[0;34m\u001b[0m\u001b[0;34m\u001b[0m\u001b[0m\n\u001b[0;32m-> 3083\u001b[0;31m                 \u001b[0mhalt_read\u001b[0m \u001b[0;34m=\u001b[0m \u001b[0mut\u001b[0m\u001b[0;34m.\u001b[0m\u001b[0mio\u001b[0m\u001b[0;34m.\u001b[0m\u001b[0mfile_hdf5\u001b[0m\u001b[0;34m(\u001b[0m\u001b[0mpath_file_name\u001b[0m\u001b[0;34m,\u001b[0m \u001b[0mverbose\u001b[0m\u001b[0;34m=\u001b[0m\u001b[0;32mFalse\u001b[0m\u001b[0;34m)\u001b[0m\u001b[0;34m\u001b[0m\u001b[0;34m\u001b[0m\u001b[0m\n\u001b[0m\u001b[1;32m   3084\u001b[0m \u001b[0;34m\u001b[0m\u001b[0m\n",
      "\u001b[0;32m~/code/utilities/basic/io.py\u001b[0m in \u001b[0;36mfile_hdf5\u001b[0;34m(file_name_base, dict_or_array_to_write, verbose)\u001b[0m\n\u001b[1;32m    937\u001b[0m         \u001b[0;31m# read from file\u001b[0m\u001b[0;34m\u001b[0m\u001b[0;34m\u001b[0m\u001b[0;34m\u001b[0m\u001b[0m\n\u001b[0;32m--> 938\u001b[0;31m         \u001b[0;32mwith\u001b[0m \u001b[0mh5py\u001b[0m\u001b[0;34m.\u001b[0m\u001b[0mFile\u001b[0m\u001b[0;34m(\u001b[0m\u001b[0mfile_name_base\u001b[0m\u001b[0;34m,\u001b[0m \u001b[0;34m'r'\u001b[0m\u001b[0;34m)\u001b[0m \u001b[0;32mas\u001b[0m \u001b[0mfile_in\u001b[0m\u001b[0;34m:\u001b[0m\u001b[0;34m\u001b[0m\u001b[0;34m\u001b[0m\u001b[0m\n\u001b[0m\u001b[1;32m    939\u001b[0m             \u001b[0mSay\u001b[0m\u001b[0;34m.\u001b[0m\u001b[0msay\u001b[0m\u001b[0;34m(\u001b[0m\u001b[0;34m'reading file:  {}'\u001b[0m\u001b[0;34m.\u001b[0m\u001b[0mformat\u001b[0m\u001b[0;34m(\u001b[0m\u001b[0mfile_name_base\u001b[0m\u001b[0;34m.\u001b[0m\u001b[0mlstrip\u001b[0m\u001b[0;34m(\u001b[0m\u001b[0;34m'./'\u001b[0m\u001b[0;34m)\u001b[0m\u001b[0;34m)\u001b[0m\u001b[0;34m,\u001b[0m \u001b[0mverbose\u001b[0m\u001b[0;34m)\u001b[0m\u001b[0;34m\u001b[0m\u001b[0;34m\u001b[0m\u001b[0m\n",
      "\u001b[0;32m/srv/conda/envs/notebook/lib/python3.7/site-packages/h5py/_hl/files.py\u001b[0m in \u001b[0;36m__init__\u001b[0;34m(self, name, mode, driver, libver, userblock_size, swmr, rdcc_nslots, rdcc_nbytes, rdcc_w0, track_order, fs_strategy, fs_persist, fs_threshold, **kwds)\u001b[0m\n\u001b[1;32m    446\u001b[0m                                fs_persist=fs_persist, fs_threshold=fs_threshold),\n\u001b[0;32m--> 447\u001b[0;31m                                swmr=swmr)\n\u001b[0m\u001b[1;32m    448\u001b[0m \u001b[0;34m\u001b[0m\u001b[0m\n",
      "\u001b[0;32m/srv/conda/envs/notebook/lib/python3.7/site-packages/h5py/_hl/files.py\u001b[0m in \u001b[0;36mmake_fid\u001b[0;34m(name, mode, userblock_size, fapl, fcpl, swmr)\u001b[0m\n\u001b[1;32m    198\u001b[0m             \u001b[0mflags\u001b[0m \u001b[0;34m|=\u001b[0m \u001b[0mh5f\u001b[0m\u001b[0;34m.\u001b[0m\u001b[0mACC_SWMR_READ\u001b[0m\u001b[0;34m\u001b[0m\u001b[0;34m\u001b[0m\u001b[0m\n\u001b[0;32m--> 199\u001b[0;31m         \u001b[0mfid\u001b[0m \u001b[0;34m=\u001b[0m \u001b[0mh5f\u001b[0m\u001b[0;34m.\u001b[0m\u001b[0mopen\u001b[0m\u001b[0;34m(\u001b[0m\u001b[0mname\u001b[0m\u001b[0;34m,\u001b[0m \u001b[0mflags\u001b[0m\u001b[0;34m,\u001b[0m \u001b[0mfapl\u001b[0m\u001b[0;34m=\u001b[0m\u001b[0mfapl\u001b[0m\u001b[0;34m)\u001b[0m\u001b[0;34m\u001b[0m\u001b[0;34m\u001b[0m\u001b[0m\n\u001b[0m\u001b[1;32m    200\u001b[0m     \u001b[0;32melif\u001b[0m \u001b[0mmode\u001b[0m \u001b[0;34m==\u001b[0m \u001b[0;34m'r+'\u001b[0m\u001b[0;34m:\u001b[0m\u001b[0;34m\u001b[0m\u001b[0;34m\u001b[0m\u001b[0m\n",
      "\u001b[0;32mh5py/_objects.pyx\u001b[0m in \u001b[0;36mh5py._objects.with_phil.wrapper\u001b[0;34m()\u001b[0m\n",
      "\u001b[0;32mh5py/_objects.pyx\u001b[0m in \u001b[0;36mh5py._objects.with_phil.wrapper\u001b[0;34m()\u001b[0m\n",
      "\u001b[0;32mh5py/h5f.pyx\u001b[0m in \u001b[0;36mh5py.h5f.open\u001b[0;34m()\u001b[0m\n",
      "\u001b[0;31mFileNotFoundError\u001b[0m: [Errno 2] Unable to open file (unable to open file: name = '../data/m12i_sidm1/halo/rockstar_dm/catalog_hdf5/tree.hdf5', errno = 2, error message = 'No such file or directory', flags = 0, o_flags = 0)",
      "\nThe above exception was the direct cause of the following exception:\n",
      "\u001b[0;31mOSError\u001b[0m                                   Traceback (most recent call last)",
      "\u001b[0;32m<ipython-input-12-25f0fd14737d>\u001b[0m in \u001b[0;36m<module>\u001b[0;34m\u001b[0m\n\u001b[1;32m      1\u001b[0m \u001b[0;32mfor\u001b[0m \u001b[0msim\u001b[0m \u001b[0;32min\u001b[0m \u001b[0mgals\u001b[0m\u001b[0;34m:\u001b[0m\u001b[0;34m\u001b[0m\u001b[0;34m\u001b[0m\u001b[0m\n\u001b[1;32m      2\u001b[0m     \u001b[0msim_dir\u001b[0m \u001b[0;34m=\u001b[0m \u001b[0;34m'../data/'\u001b[0m \u001b[0;34m+\u001b[0m \u001b[0msim\u001b[0m\u001b[0;34m\u001b[0m\u001b[0;34m\u001b[0m\u001b[0m\n\u001b[0;32m----> 3\u001b[0;31m     \u001b[0mdf\u001b[0m \u001b[0;34m=\u001b[0m \u001b[0mscaleRadii\u001b[0m\u001b[0;34m(\u001b[0m\u001b[0msim_dir\u001b[0m\u001b[0;34m,\u001b[0m \u001b[0;36m60\u001b[0m\u001b[0;34m)\u001b[0m\u001b[0;34m\u001b[0m\u001b[0;34m\u001b[0m\u001b[0m\n\u001b[0m\u001b[1;32m      4\u001b[0m     \u001b[0mdf\u001b[0m\u001b[0;34m.\u001b[0m\u001b[0mto_hdf\u001b[0m\u001b[0;34m(\u001b[0m\u001b[0;34m'radii_{}.hdf'\u001b[0m\u001b[0;34m.\u001b[0m\u001b[0mformat\u001b[0m\u001b[0;34m(\u001b[0m\u001b[0msim\u001b[0m\u001b[0;34m)\u001b[0m\u001b[0;34m,\u001b[0m \u001b[0;34m'w'\u001b[0m\u001b[0;34m)\u001b[0m\u001b[0;34m\u001b[0m\u001b[0;34m\u001b[0m\u001b[0m\n",
      "\u001b[0;32m<ipython-input-11-0b43b4545e38>\u001b[0m in \u001b[0;36mscaleRadii\u001b[0;34m(sim_dir, snapshot)\u001b[0m\n\u001b[1;32m      9\u001b[0m \u001b[0;34m\u001b[0m\u001b[0m\n\u001b[1;32m     10\u001b[0m \u001b[0;32mdef\u001b[0m \u001b[0mscaleRadii\u001b[0m\u001b[0;34m(\u001b[0m\u001b[0msim_dir\u001b[0m\u001b[0;34m,\u001b[0m \u001b[0msnapshot\u001b[0m\u001b[0;34m)\u001b[0m\u001b[0;34m:\u001b[0m\u001b[0;34m\u001b[0m\u001b[0;34m\u001b[0m\u001b[0m\n\u001b[0;32m---> 11\u001b[0;31m     \u001b[0mhalt\u001b[0m \u001b[0;34m=\u001b[0m \u001b[0mhalo\u001b[0m\u001b[0;34m.\u001b[0m\u001b[0mio\u001b[0m\u001b[0;34m.\u001b[0m\u001b[0mIO\u001b[0m\u001b[0;34m.\u001b[0m\u001b[0mread_tree\u001b[0m\u001b[0;34m(\u001b[0m\u001b[0msimulation_directory\u001b[0m\u001b[0;34m=\u001b[0m\u001b[0msim_dir\u001b[0m\u001b[0;34m,\u001b[0m \u001b[0mspecies\u001b[0m\u001b[0;34m=\u001b[0m\u001b[0;34m'star'\u001b[0m\u001b[0;34m,\u001b[0m \u001b[0mspecies_snapshot_indices\u001b[0m\u001b[0;34m=\u001b[0m\u001b[0;34m[\u001b[0m\u001b[0msnapshot\u001b[0m\u001b[0;34m]\u001b[0m\u001b[0;34m)\u001b[0m\u001b[0;34m\u001b[0m\u001b[0;34m\u001b[0m\u001b[0m\n\u001b[0m\u001b[1;32m     12\u001b[0m     \u001b[0mcurrent_idx\u001b[0m \u001b[0;34m=\u001b[0m \u001b[0mnp\u001b[0m\u001b[0;34m.\u001b[0m\u001b[0mwhere\u001b[0m\u001b[0;34m(\u001b[0m\u001b[0;34m(\u001b[0m\u001b[0mhalt\u001b[0m\u001b[0;34m[\u001b[0m\u001b[0;34m'snapshot'\u001b[0m\u001b[0;34m]\u001b[0m \u001b[0;34m==\u001b[0m \u001b[0;36m60\u001b[0m\u001b[0;34m)\u001b[0m\u001b[0;34m)\u001b[0m\u001b[0;34m\u001b[0m\u001b[0;34m\u001b[0m\u001b[0m\n\u001b[1;32m     13\u001b[0m     \u001b[0mr_vir\u001b[0m     \u001b[0;34m=\u001b[0m \u001b[0mhalt\u001b[0m\u001b[0;34m[\u001b[0m\u001b[0;34m'radius'\u001b[0m\u001b[0;34m]\u001b[0m\u001b[0;34m[\u001b[0m\u001b[0mhalt\u001b[0m\u001b[0;34m[\u001b[0m\u001b[0;34m'host.index'\u001b[0m\u001b[0;34m]\u001b[0m\u001b[0;34m[\u001b[0m\u001b[0mcurrent_idx\u001b[0m\u001b[0;34m]\u001b[0m\u001b[0;34m]\u001b[0m\u001b[0;34m[\u001b[0m\u001b[0;36m0\u001b[0m\u001b[0;34m]\u001b[0m\u001b[0;34m\u001b[0m\u001b[0;34m\u001b[0m\u001b[0m\n",
      "\u001b[0;32m~/code/halo_analysis/halo_io.py\u001b[0m in \u001b[0;36mread_tree\u001b[0;34m(self, simulation_directory, rockstar_directory, file_kind, species, species_snapshot_indices, assign_species_pointers, host_number, simulation_name, verbose)\u001b[0m\n\u001b[1;32m   2573\u001b[0m             \u001b[0mhalt\u001b[0m\u001b[0;34m,\u001b[0m \u001b[0mheader\u001b[0m \u001b[0;34m=\u001b[0m \u001b[0mself\u001b[0m\u001b[0;34m.\u001b[0m\u001b[0m_read_tree_text\u001b[0m\u001b[0;34m(\u001b[0m\u001b[0msimulation_directory\u001b[0m \u001b[0;34m+\u001b[0m \u001b[0mrockstar_directory\u001b[0m\u001b[0;34m)\u001b[0m\u001b[0;34m\u001b[0m\u001b[0;34m\u001b[0m\u001b[0m\n\u001b[1;32m   2574\u001b[0m         \u001b[0;32melif\u001b[0m \u001b[0mfile_kind\u001b[0m \u001b[0;34m==\u001b[0m \u001b[0;34m'hdf5'\u001b[0m\u001b[0;34m:\u001b[0m\u001b[0;34m\u001b[0m\u001b[0;34m\u001b[0m\u001b[0m\n\u001b[0;32m-> 2575\u001b[0;31m             \u001b[0mhalt\u001b[0m\u001b[0;34m,\u001b[0m \u001b[0mheader\u001b[0m \u001b[0;34m=\u001b[0m \u001b[0mself\u001b[0m\u001b[0;34m.\u001b[0m\u001b[0m_io_tree_hdf5\u001b[0m\u001b[0;34m(\u001b[0m\u001b[0msimulation_directory\u001b[0m \u001b[0;34m+\u001b[0m \u001b[0mrockstar_directory\u001b[0m\u001b[0;34m)\u001b[0m\u001b[0;34m\u001b[0m\u001b[0;34m\u001b[0m\u001b[0m\n\u001b[0m\u001b[1;32m   2576\u001b[0m \u001b[0;34m\u001b[0m\u001b[0m\n\u001b[1;32m   2577\u001b[0m         \u001b[0;31m# assign auxilliary information\u001b[0m\u001b[0;34m\u001b[0m\u001b[0;34m\u001b[0m\u001b[0;34m\u001b[0m\u001b[0m\n",
      "\u001b[0;32m~/code/halo_analysis/halo_io.py\u001b[0m in \u001b[0;36m_io_tree_hdf5\u001b[0;34m(self, rockstar_directory, halt)\u001b[0m\n\u001b[1;32m   3101\u001b[0m             \u001b[0;32mexcept\u001b[0m \u001b[0mOSError\u001b[0m \u001b[0;32mas\u001b[0m \u001b[0mexc\u001b[0m\u001b[0;34m:\u001b[0m\u001b[0;34m\u001b[0m\u001b[0;34m\u001b[0m\u001b[0m\n\u001b[1;32m   3102\u001b[0m                 \u001b[0ms\u001b[0m \u001b[0;34m=\u001b[0m \u001b[0;34m'! cannot find halo merger tree file:  {}'\u001b[0m\u001b[0;34m.\u001b[0m\u001b[0mformat\u001b[0m\u001b[0;34m(\u001b[0m\u001b[0mpath_file_name\u001b[0m\u001b[0;34m.\u001b[0m\u001b[0mlstrip\u001b[0m\u001b[0;34m(\u001b[0m\u001b[0;34m'./'\u001b[0m\u001b[0;34m)\u001b[0m\u001b[0;34m)\u001b[0m\u001b[0;34m\u001b[0m\u001b[0;34m\u001b[0m\u001b[0m\n\u001b[0;32m-> 3103\u001b[0;31m                 \u001b[0;32mraise\u001b[0m \u001b[0mOSError\u001b[0m\u001b[0;34m(\u001b[0m\u001b[0ms\u001b[0m\u001b[0;34m)\u001b[0m \u001b[0;32mfrom\u001b[0m \u001b[0mexc\u001b[0m\u001b[0;34m\u001b[0m\u001b[0;34m\u001b[0m\u001b[0m\n\u001b[0m\u001b[1;32m   3104\u001b[0m \u001b[0;34m\u001b[0m\u001b[0m\n\u001b[1;32m   3105\u001b[0m             \u001b[0;32mreturn\u001b[0m \u001b[0mhalt\u001b[0m\u001b[0;34m,\u001b[0m \u001b[0mheader\u001b[0m\u001b[0;34m\u001b[0m\u001b[0;34m\u001b[0m\u001b[0m\n",
      "\u001b[0;31mOSError\u001b[0m: ! cannot find halo merger tree file:  data/m12i_sidm1/halo/rockstar_dm/catalog_hdf5/tree.hdf5"
     ]
    }
   ],
   "source": [
    "for sim in gals:\n",
    "    sim_dir = \"../data/\" + sim\n",
    "    df = scaleRadii(sim_dir, 60)\n",
    "    df.to_hdf(\"radii_{}.hdf\".format(sim), \"w\")"
   ]
  },
  {
   "cell_type": "code",
   "execution_count": 2,
   "metadata": {},
   "outputs": [
    {
     "name": "stdout",
     "output_type": "stream",
     "text": [
      "\n",
      "# in utilities.simulation.Snapshot():\n",
      "* reading:  data/latte_metaldiff/m12f_res7100/snapshot_times.txt\n",
      "\n",
      "\n",
      "# in halo_analysis.halo_io.IO():\n",
      "* read 28366111 halos from:  data/latte_metaldiff/m12f_res7100/halo/rockstar_dm/catalog_hdf5/tree.hdf5\n",
      "  \n",
      "* assigning ['star'] properties to halo merger trees\n",
      "\n",
      "# in halo_analysis.halo_io.Particle():\n",
      "* read 59184 halos, 63 have star particles, from:  data/latte_metaldiff/m12f_res7100/halo/rockstar_dm/catalog_hdf5/star_600.hdf5\n",
      "\n",
      "# in utilities.simulation.Snapshot():\n",
      "* reading:  data/latte_metaldiff/m12f_res7100/snapshot_times.txt\n",
      "\n",
      "! cannot find star particle pointer file at snapshot 600 in ../data/latte_metaldiff/m12f_res7100/\n",
      "  dark2.mass\n",
      "  star.form.time.100\n",
      "  star.form.time.50\n",
      "  star.form.time.90\n",
      "  star.form.time.95\n",
      "  star.form.time.dif.68\n",
      "  star.indices\n",
      "  star.mass\n",
      "  star.massfraction\n",
      "  star.number\n",
      "  star.position\n",
      "  star.radius.50\n",
      "  star.radius.90\n",
      "  star.vel.circ.50\n",
      "  star.vel.std\n",
      "  star.vel.std.50\n",
      "  star.velocity\n",
      "\n"
     ]
    }
   ],
   "source": [
    "halt = halo.io.IO.read_tree(\n",
    "    simulation_directory=\"../data/latte_metaldiff/m12f_res7100\",\n",
    "    species=\"star\",\n",
    "    species_snapshot_indices=[600],\n",
    "    assign_species_pointers=True,\n",
    ")"
   ]
  },
  {
   "cell_type": "code",
   "execution_count": 16,
   "metadata": {
    "scrolled": true
   },
   "outputs": [
    {
     "name": "stdout",
     "output_type": "stream",
     "text": [
      "\n",
      "# in utilities.simulation.Snapshot():\n",
      "* reading:  data/m12i_sidm1/snapshot_scale-factors.txt\n",
      "\n",
      "* input redshift = 0:  using snapshot index = 60, redshift = 0.000\n",
      "\n",
      "\n",
      "# in gizmo_analysis.gizmo_io.Read():\n",
      "* reading header from:  data/m12i_sidm1/output/snapdir_060/snapshot_060.0.hdf5\n",
      "  snapshot contains the following number of particles:\n",
      "    dark      (id = 1): 70511575 particles\n",
      "    dark2     (id = 2): 5513331 particles\n",
      "    gas       (id = 0): 60228862 particles\n",
      "    star      (id = 4): 10355169 particles\n",
      "    blackhole (id = 5): 0 particles\n",
      "\n",
      "* reading species: ['dark', 'star']\n",
      "* reading dark properties: ['id', 'id.child', 'id.generation', 'mass', 'position', 'velocity']\n",
      "* reading star properties: ['form.scalefactor', 'id', 'id.child', 'id.generation', 'mass', 'massfraction', 'position', 'velocity']\n",
      "* reading particles from:\n",
      "    snapshot_060.0.hdf5\n",
      "    snapshot_060.1.hdf5\n",
      "    snapshot_060.2.hdf5\n",
      "    snapshot_060.3.hdf5\n",
      "\n",
      "! cannot find MUSIC config file:  data/m12i_sidm1/*/*.conf\n",
      "! missing cosmological parameters, assuming the following (from AGORA):\n",
      "  assuming omega_baryon = 0.0455\n",
      "  assuming sigma_8 = 0.807\n",
      "  assuming n_s = 0.961\n",
      "\n",
      "* checking sanity of particle properties\n",
      "! warning: star mass [min, med, max] = [3278.008, 5340.890, 1.217e5]\n",
      "\n",
      "  cannot read file containing hosts coordinates\n",
      "  instead will assign hosts via iterative zoom on particle mass\n",
      "\n",
      "# in utilities.particle.get_center_positions():\n",
      "* assigning position for 1 center/host, via iterative zoom-in on star particle mass\n",
      "  host1 position = (41791.035, 44118.918, 46268.860) [kpc comoving]\n",
      "\n",
      "# in utilities.particle.get_center_velocities():\n",
      "* assigning velocity for 1 center/host, weighting star particles by mass\n",
      "  host1 velocity = (-52.5, 75.8, 96.0) [km / s]\n",
      "\n",
      "\n",
      "# in utilities.particle.get_principal_axes():\n",
      "* assigning rotation tensor for 1 host\n",
      "  using star particles at distance < 10.0 kpc\n",
      "  using distance < 7.8 kpc that encloses 90% of mass\n",
      "  using youngest 25% of star particles\n",
      "  host1: using star particles with age = [0.000, 3.961] Gyr\n",
      "  host1: axis ratios: min/maj = 0.186, min/med = 0.200, med/maj = 0.932\n",
      "\n"
     ]
    }
   ],
   "source": [
    "part = gizmo.io.Read.read_snapshots(\n",
    "    [\"dark\", \"star\"], \"redshift\", 0, \"../data/\" + gals[0], assign_hosts_rotation=True\n",
    ")"
   ]
  },
  {
   "cell_type": "code",
   "execution_count": 21,
   "metadata": {},
   "outputs": [
    {
     "name": "stdout",
     "output_type": "stream",
     "text": [
      "\n",
      "# in utilities.simulation.Snapshot():\n",
      "* reading:  data/m12i_sidm1/snapshot_scale-factors.txt\n",
      "\n",
      "* input redshift = 0:  using snapshot index = 60, redshift = 0.000\n",
      "\n",
      "\n",
      "# in halo_analysis.halo_io.IO():\n",
      "! cannot find halo hdf5 files in:  data/m12i_sidm1/halo/rockstar_dm/catalog_hdf5/\n"
     ]
    },
    {
     "ename": "OSError",
     "evalue": "cannot find any halo catalog files of type hdf5 in:  ../data/m12i_sidm1/halo/rockstar_dm/",
     "output_type": "error",
     "traceback": [
      "\u001b[0;31m---------------------------------------------------------------------------\u001b[0m",
      "\u001b[0;31mOSError\u001b[0m                                   Traceback (most recent call last)",
      "\u001b[0;32m<ipython-input-21-fee429b8aff3>\u001b[0m in \u001b[0;36m<module>\u001b[0;34m\u001b[0m\n\u001b[0;32m----> 1\u001b[0;31m \u001b[0mhal\u001b[0m \u001b[0;34m=\u001b[0m \u001b[0mhalo\u001b[0m\u001b[0;34m.\u001b[0m\u001b[0mio\u001b[0m\u001b[0;34m.\u001b[0m\u001b[0mIO\u001b[0m\u001b[0;34m.\u001b[0m\u001b[0mread_catalogs\u001b[0m\u001b[0;34m(\u001b[0m\u001b[0;34m'redshift'\u001b[0m\u001b[0;34m,\u001b[0m \u001b[0;36m0\u001b[0m\u001b[0;34m,\u001b[0m \u001b[0;34m'../data/'\u001b[0m\u001b[0;34m+\u001b[0m\u001b[0mgals\u001b[0m\u001b[0;34m[\u001b[0m\u001b[0;36m0\u001b[0m\u001b[0;34m]\u001b[0m\u001b[0;34m)\u001b[0m\u001b[0;34m\u001b[0m\u001b[0;34m\u001b[0m\u001b[0m\n\u001b[0m",
      "\u001b[0;32m~/code/halo_analysis/halo_io.py\u001b[0m in \u001b[0;36mread_catalogs\u001b[0;34m(self, snapshot_value_kind, snapshot_values, simulation_directory, rockstar_directory, file_kind, species, assign_species_pointers, host_number, all_snapshot_list, simulation_name)\u001b[0m\n\u001b[1;32m   1106\u001b[0m             raise OSError(\n\u001b[1;32m   1107\u001b[0m                 'cannot find any halo catalog files of type {} in:  {}'.format(\n\u001b[0;32m-> 1108\u001b[0;31m                     \u001b[0mfile_kind\u001b[0m\u001b[0;34m,\u001b[0m \u001b[0msimulation_directory\u001b[0m \u001b[0;34m+\u001b[0m \u001b[0mrockstar_directory\u001b[0m\u001b[0;34m.\u001b[0m\u001b[0mlstrip\u001b[0m\u001b[0;34m(\u001b[0m\u001b[0;34m'./'\u001b[0m\u001b[0;34m)\u001b[0m\u001b[0;34m\u001b[0m\u001b[0;34m\u001b[0m\u001b[0m\n\u001b[0m\u001b[1;32m   1109\u001b[0m                 )\n\u001b[1;32m   1110\u001b[0m             )\n",
      "\u001b[0;31mOSError\u001b[0m: cannot find any halo catalog files of type hdf5 in:  ../data/m12i_sidm1/halo/rockstar_dm/"
     ]
    }
   ],
   "source": [
    "hal = halo.io.IO.read_catalogs(\"redshift\", 0, \"../data/\" + gals[0])"
   ]
  },
  {
   "cell_type": "code",
   "execution_count": null,
   "metadata": {},
   "outputs": [],
   "source": []
  }
 ],
 "metadata": {
  "kernelspec": {
   "display_name": "Python 3",
   "language": "python",
   "name": "python3"
  },
  "language_info": {
   "codemirror_mode": {
    "name": "ipython",
    "version": 3
   },
   "file_extension": ".py",
   "mimetype": "text/x-python",
   "name": "python",
   "nbconvert_exporter": "python",
   "pygments_lexer": "ipython3",
   "version": "3.7.8"
  }
 },
 "nbformat": 4,
 "nbformat_minor": 4
}
