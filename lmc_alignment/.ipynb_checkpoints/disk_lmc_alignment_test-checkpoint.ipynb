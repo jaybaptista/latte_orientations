{
 "cells": [
  {
   "cell_type": "code",
   "execution_count": 11,
   "id": "b9c52989",
   "metadata": {},
   "outputs": [],
   "source": [
    "import asdf\n",
    "import numpy as np\n",
    "import matplotlib.pyplot as plt\n",
    "import orientations as ori\n",
    "\n",
    "plt.rcParams.update({\"font.family\": \"serif\"})"
   ]
  },
  {
   "cell_type": "code",
   "execution_count": 2,
   "id": "1b5d9793",
   "metadata": {},
   "outputs": [],
   "source": [
    "m12f_data = asdf.open(\"disk_lmc_alignment_m12f_res7100.asdf\")\n",
    "m12i_data = asdf.open(\"disk_lmc_alignment_m12i_res7100.asdf\")\n",
    "m12m_data = asdf.open(\"disk_lmc_alignment_m12m_res7100.asdf\")\n",
    "m12w_data = asdf.open(\"disk_lmc_alignment_m12w_res7100.asdf\")\n",
    "\n",
    "af_md = asdf.open(\"peri_md.asdf\")\n",
    "\n",
    "m12f_time = ori.getSnapshotData(\n",
    "    \"../../../data/latte_metaldiff/m12i_res7100/\", np.array(m12f_data[\"snapshot\"])\n",
    ")[0]\n",
    "m12i_time = ori.getSnapshotData(\n",
    "    \"../../../data/latte_metaldiff/m12i_res7100/\", np.array(m12i_data[\"snapshot\"])\n",
    ")[0]\n",
    "m12m_time = ori.getSnapshotData(\n",
    "    \"../../../data/latte_metaldiff/m12i_res7100/\", np.array(m12m_data[\"snapshot\"])\n",
    ")[0]\n",
    "m12w_time = ori.getSnapshotData(\n",
    "    \"../../../data/latte_metaldiff/m12i_res7100/\", np.array(m12w_data[\"snapshot\"])\n",
    ")[0]\n"
   ]
  },
  {
   "cell_type": "code",
   "execution_count": 10,
   "id": "0f78d744",
   "metadata": {},
   "outputs": [],
   "source": [
    "fig, ax = plt.subplots(2, 2, dpi=200)\n",
    "\n",
    "((ax_f, ax_i), (ax_w, ax_m)) = ax\n",
    "\n",
    "ax_f.plot(m12f_time, m12f_data[\"angle\"], c='b')\n",
    "ax_i.plot(m12i_time, m12i_data[\"angle\"], c='b')\n",
    "ax_m.plot(m12m_time, m12m_data[\"angle\"], c='b')\n",
    "ax_w.plot(m12w_time, m12w_data[\"angle\"], c='b')\n",
    "\n",
    "ax_f.set_title(\"m12f\")\n",
    "ax_i.set_title(\"m12i\")\n",
    "ax_m.set_title(\"m12m\")\n",
    "ax_w.set_title(\"m12w\")\n",
    "\n",
    "ax_f.set_title(\"m12f\")\n",
    "ax_i.set_title(\"m12i\")\n",
    "ax_m.set_title(\"m12m\")\n",
    "ax_w.set_title(\"m12w\")\n",
    "\n",
    "ax_f.axvline(af_md[\"m12f_res7100\"][\"peri.t\"], alpha=0.75, c=\"k\")\n",
    "ax_i.axvline(\n",
    "    af_md[\"m12i_res7100\"][\"peri.t\"], alpha=0.75, c=\"k\", label=\"$t_\\mathrm{peri}$\"\n",
    ")\n",
    "ax_m.axvline(af_md[\"m12m_res7100\"][\"peri.t\"], alpha=0.75, c=\"k\")\n",
    "ax_w.axvline(af_md[\"m12w_res7100\"][\"peri.t\"], alpha=0.75, c=\"k\")\n",
    "\n",
    "ax_f.axvline(8, alpha=0.75, c=\"r\")\n",
    "ax_i.axvline(10, alpha=0.75, c=\"r\", label=\"$t_\\mathrm{disk}$\")\n",
    "ax_m.axvline(10, alpha=0.75, c=\"r\")\n",
    "ax_w.axvline(10, alpha=0.75, c=\"r\")\n",
    "\n",
    "ax_i.legend()\n",
    "\n",
    "fig.text(-0.025, 0.5, \"Disk-LMC angle [deg]\", rotation=90, va=\"center\", ha=\"center\", fontsize=16)\n",
    "fig.text(0.5, -.025, \"Cosmic time [Gyr]\", ha=\"center\", fontsize=18)\n",
    "\n",
    "fig.tight_layout()\n",
    "plt.savefig(\"lmc_disk_alignment.png\", bbox_inches='tight')"
   ]
  },
  {
   "cell_type": "code",
   "execution_count": null,
   "id": "d0ad0f5a",
   "metadata": {},
   "outputs": [],
   "source": []
  }
 ],
 "metadata": {
  "kernelspec": {
   "display_name": "Python 3 (ipykernel)",
   "language": "python",
   "name": "python3"
  },
  "language_info": {
   "codemirror_mode": {
    "name": "ipython",
    "version": 3
   },
   "file_extension": ".py",
   "mimetype": "text/x-python",
   "name": "python",
   "nbconvert_exporter": "python",
   "pygments_lexer": "ipython3",
   "version": "3.8.10"
  }
 },
 "nbformat": 4,
 "nbformat_minor": 5
}
