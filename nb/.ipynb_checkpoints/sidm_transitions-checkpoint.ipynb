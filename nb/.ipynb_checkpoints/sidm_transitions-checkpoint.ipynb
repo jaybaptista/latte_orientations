{
 "cells": [
  {
   "cell_type": "code",
   "execution_count": 1,
   "id": "503cadb3",
   "metadata": {},
   "outputs": [
    {
     "name": "stdout",
     "output_type": "stream",
     "text": [
      "palettable colormaps are not installed\n",
      "don't have phil's colormaps\n",
      "Missing firefly, obtain it at http://github.com/ageller/Firefly or pip install firefly.\n",
      "FIRE studio is not installed, Galaxy.get_HSML will not work\n"
     ]
    }
   ],
   "source": [
    "import numpy as np\n",
    "import matplotlib.pyplot as plt\n",
    "import jmb_utils as jb\n",
    "from abg_python.galaxy import findBurstyRegime\n",
    "import pandas as pd\n",
    "import utilities as ut\n",
    "cosmology = ut.cosmology.CosmologyClass(source='agora')"
   ]
  },
  {
   "cell_type": "code",
   "execution_count": 2,
   "id": "f0b51457",
   "metadata": {},
   "outputs": [],
   "source": [
    "sfrs = [\n",
    "    '../star_formation_rates/m12f.hdf',\n",
    "    '../star_formation_rates/m12i.hdf',\n",
    "    '../star_formation_rates/m12m.hdf',\n",
    "    '../star_formation_rates/m12w.hdf'\n",
    "]"
   ]
  },
  {
   "cell_type": "code",
   "execution_count": 3,
   "id": "4f994c32",
   "metadata": {},
   "outputs": [
    {
     "name": "stdout",
     "output_type": "stream",
     "text": [
      "../star_formation_rates/m12f.hdf 7.59174688000344 0.6737207913443344\n",
      "../star_formation_rates/m12i.hdf 8.458746880002959 0.5378002062411762\n",
      "../star_formation_rates/m12m.hdf 3.5227468800056947 1.9111405360054774\n",
      "../star_formation_rates/m12w.hdf 8.406216020002955 0.5454353592919254\n"
     ]
    }
   ],
   "source": [
    "for directory in sfrs:\n",
    "    sfr = pd.read_hdf(directory)\n",
    "    \n",
    "    t_bursty, scatters = findBurstyRegime(\n",
    "        time_edges=sfr.time.to_numpy(),\n",
    "        SFRs=sfr.sfr.to_numpy()\n",
    "    )\n",
    "\n",
    "    print(directory, t_bursty, cosmology.convert_time('redshift', 'time', t_bursty))"
   ]
  }
 ],
 "metadata": {
  "kernelspec": {
   "display_name": "Python 3 (ipykernel)",
   "language": "python",
   "name": "python3"
  },
  "language_info": {
   "codemirror_mode": {
    "name": "ipython",
    "version": 3
   },
   "file_extension": ".py",
   "mimetype": "text/x-python",
   "name": "python",
   "nbconvert_exporter": "python",
   "pygments_lexer": "ipython3",
   "version": "3.8.10"
  }
 },
 "nbformat": 4,
 "nbformat_minor": 5
}
