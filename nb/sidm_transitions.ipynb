{
 "cells": [
  {
   "cell_type": "code",
   "execution_count": 1,
   "metadata": {},
   "outputs": [
    {
     "name": "stdout",
     "output_type": "stream",
     "text": [
      "palettable colormaps are not installed\n",
      "don't have phil's colormaps\n",
      "Missing firefly, obtain it at http://github.com/ageller/Firefly or pip install firefly.\n",
      "FIRE studio is not installed, Galaxy.get_HSML will not work\n"
     ]
    }
   ],
   "source": [
    "import numpy as np\n",
    "import matplotlib.pyplot as plt\n",
    "import jmb_utils as jb\n",
    "from abg_python.galaxy import findBurstyRegime\n",
    "import pandas as pd\n",
    "import utilities as ut\n",
    "cosmology = ut.cosmology.CosmologyClass(source='agora')"
   ]
  },
  {
   "cell_type": "code",
   "execution_count": 2,
   "metadata": {},
   "outputs": [],
   "source": [
    "sfrs = [\n",
    "    '../star_formation_rates/sidm_sfr_m12f_sidm1.hdf',\n",
    "    '../star_formation_rates/sidm_sfr_m12i_sidm1.hdf',\n",
    "    '../star_formation_rates/sidm_sfr_m12m_sidm1.hdf',\n",
    "]"
   ]
  },
  {
   "cell_type": "code",
   "execution_count": 3,
   "metadata": {},
   "outputs": [
    {
     "name": "stdout",
     "output_type": "stream",
     "text": [
      "../star_formation_rates/sidm_sfr_m12f_sidm1.hdf 5.522528457992054 1.1213386358123492\n",
      "../star_formation_rates/sidm_sfr_m12i_sidm1.hdf 8.366528457990478 0.551250927360402\n",
      "../star_formation_rates/sidm_sfr_m12m_sidm1.hdf 5.012528457992337 1.2741523210327834\n"
     ]
    }
   ],
   "source": [
    "for directory in sfrs:\n",
    "    sfr = pd.read_hdf(directory)\n",
    "    \n",
    "    t_bursty, scatters = findBurstyRegime(\n",
    "        time_edges=sfr.time.to_numpy(),\n",
    "        SFRs=sfr.sfr.to_numpy()\n",
    "    )\n",
    "\n",
    "    print(directory, t_bursty, cosmology.convert_time('redshift', 'time', t_bursty))"
   ]
  },
  {
   "cell_type": "code",
   "execution_count": null,
   "metadata": {},
   "outputs": [],
   "source": []
  }
 ],
 "metadata": {
  "kernelspec": {
   "display_name": "Python 3",
   "language": "python",
   "name": "python3"
  },
  "language_info": {
   "codemirror_mode": {
    "name": "ipython",
    "version": 3
   },
   "file_extension": ".py",
   "mimetype": "text/x-python",
   "name": "python",
   "nbconvert_exporter": "python",
   "pygments_lexer": "ipython3",
   "version": "3.5.6"
  }
 },
 "nbformat": 4,
 "nbformat_minor": 5
}
