{
 "cells": [
  {
   "cell_type": "code",
   "execution_count": 1,
   "id": "d5f6e227",
   "metadata": {},
   "outputs": [
    {
     "name": "stdout",
     "output_type": "stream",
     "text": [
      "don't have phil's colormaps\n"
     ]
    }
   ],
   "source": [
    "%load_ext autoreload\n",
    "%autoreload 2\n",
    "\n",
    "import numpy as np\n",
    "import gizmo_analysis as gizmo\n",
    "import utilities as ut\n",
    "import orientations as ori\n",
    "import asdf\n",
    "\n",
    "# Radius of axis ratio calculations (put into logspace) [kpc]\n",
    "r_ini = 0.1\n",
    "r_fin = 200\n",
    "\n",
    "# Number of points calculated for radius in logspace\n",
    "N_logspace = 10 #1000\n",
    "\n",
    "# Put radius values into logspace\n",
    "r_ini_log = np.log10(r_ini)\n",
    "r_fin_log = np.log10(r_fin)\n",
    "r = np.logspace(r_ini_log, r_fin_log, N_logspace, base=10)\n",
    "\n",
    "# Tolerance in axis ratios and maximum iterations (using reduced inertia tensor method)\n",
    "tolerance = 0.001\n",
    "iters_max = 1000"
   ]
  },
  {
   "cell_type": "code",
   "execution_count": 2,
   "id": "dddbd2ca",
   "metadata": {
    "scrolled": false
   },
   "outputs": [
    {
     "name": "stdout",
     "output_type": "stream",
     "text": [
      "\n",
      "# in utilities.simulation.Snapshot():\n",
      "* reading:  data/latte_metaldiff/m12f_res7100/snapshot_times.txt\n",
      "\n",
      "  using snapshot index = 600, redshift = 0.000\n",
      "\n",
      "\n",
      "# in gizmo_analysis.gizmo_io.Read():\n",
      "* reading header from:  data/latte_metaldiff/m12f_res7100/output/snapdir_600/snapshot_600.0.hdf5\n",
      "  snapshot contains the following number of particles:\n",
      "    dark      (id = 1): 96239056 particles\n",
      "    dark2     (id = 2): 7591203 particles\n",
      "    gas       (id = 0): 80307825 particles\n",
      "    star      (id = 4): 16066489 particles\n",
      "    blackhole (id = 5): 0 particles\n",
      "\n",
      "* reading the following\n",
      "  species: ['dark']\n",
      "\n",
      "* reading particles from:\n",
      "    snapshot_600.0.hdf5\n",
      "    snapshot_600.1.hdf5\n",
      "    snapshot_600.2.hdf5\n",
      "    snapshot_600.3.hdf5\n",
      "\n",
      "* reading cosmological parameters from:  data/latte_metaldiff/m12f_res7100/initial_condition/ic_agora_m12f.conf\n",
      "\n",
      "* checking sanity of particle properties\n",
      "\n",
      "\n",
      "# in gizmo_analysis.gizmo_track.ParticleCoordinate():\n",
      "  read 1 host (position, velocity, principal axes) from:  data/latte_metaldiff/m12f_res7100/track/host_coordinates.hdf5\n",
      "  host1 position = (38711.76, 47665.07, 46817.27) [kpc comoving]\n",
      "  host1 velocity = (-156.3, 161.7, 106.2) [km / s]\n",
      "  host1 axis ratios = (0.16, 0.17, 0.97)\n",
      "\n"
     ]
    }
   ],
   "source": [
    "part = gizmo.io.Read.read_snapshots(\"dark\", \"snapshot\", 600, \"../../../data/latte_metaldiff/m12f_res7100\", assign_hosts_rotation=True)"
   ]
  },
  {
   "cell_type": "code",
   "execution_count": 3,
   "id": "37e2d53e",
   "metadata": {},
   "outputs": [],
   "source": [
    "dist = part[\"dark\"].prop('host.distance.total')\n",
    "pos  = part[\"dark\"].prop('host.distance.principal')\n",
    "mass = part[\"dark\"][\"mass\"]"
   ]
  },
  {
   "cell_type": "code",
   "execution_count": null,
   "id": "17ec52d8",
   "metadata": {},
   "outputs": [
    {
     "name": "stdout",
     "output_type": "stream",
     "text": [
      "Running @ 0.1\n"
     ]
    }
   ],
   "source": [
    "## VERSION 1\n",
    "%autoreload 2\n",
    "dfs = {\n",
    "        \"rmax\": np.zeros(N_logspace),\n",
    "        \"shape\": np.zeros(N_logspace),\n",
    "        \"iter\": np.zeros(N_logspace),\n",
    "        \"tensor\": np.zeros((N_logspace, 3,3)),\n",
    "        \"ortho\": np.zeros(N_logspace),\n",
    "        \"a\": np.zeros(N_logspace),\n",
    "        \"b\": np.zeros(N_logspace),\n",
    "        \"c\": np.zeros(N_logspace),\n",
    "        \"s\": np.zeros(N_logspace),\n",
    "        \"p\": np.zeros(N_logspace),\n",
    "        \"q\": np.zeros(N_logspace),\n",
    "    }\n",
    "\n",
    "for i, r_i in enumerate(r):\n",
    "    print(\"Running @\", r_i)\n",
    "    df = ori.getShape(pos, r_i, mass, distances=dist, tolerance=0.001, iters_max=1000)\n",
    "    print(df)\n",
    "    dfs[\"rmax\"][i] = df[\"rmax\"]\n",
    "    dfs[\"shape\"][i] = df[\"shape\"]\n",
    "    dfs[\"iter\"][i] = df[\"iter\"]\n",
    "    dfs[\"tensor\"][i] = df[\"tensor\"]\n",
    "    dfs[\"ortho\"][i] = df[\"ortho\"]\n",
    "    dfs[\"a\"][i] = df[\"a\"]\n",
    "    dfs[\"b\"][i] = df[\"b\"]\n",
    "    dfs[\"c\"][i] = df[\"c\"]\n",
    "    dfs[\"s\"][i] = df[\"s\"]\n",
    "    dfs[\"p\"][i] = df[\"p\"]\n",
    "    dfs[\"q\"][i] = df[\"q\"]\n",
    "\n",
    "af = asdf.AsdfFile(dfs)\n",
    "af.write_to(\"tmp.asdf\")"
   ]
  },
  {
   "cell_type": "code",
   "execution_count": null,
   "id": "36c3a8a5",
   "metadata": {},
   "outputs": [],
   "source": [
    "## VERSION 2\n",
    "\n",
    "%autoreload 2\n",
    "dfs = {\n",
    "        \"rmax\": np.zeros(N_logspace),\n",
    "        \"shape\": np.zeros(N_logspace),\n",
    "        \"iter\": np.zeros(N_logspace),\n",
    "        \"tensor\": np.zeros((N_logspace, 3,3)),\n",
    "        \"ortho\": np.zeros(N_logspace),\n",
    "        \"a\": np.zeros(N_logspace),\n",
    "        \"b\": np.zeros(N_logspace),\n",
    "        \"c\": np.zeros(N_logspace),\n",
    "        \"s\": np.zeros(N_logspace),\n",
    "        \"p\": np.zeros(N_logspace),\n",
    "        \"q\": np.zeros(N_logspace),\n",
    "    }\n",
    "\n",
    "for i, r_i in enumerate(r):\n",
    "    print(\"Running @\", r_i)\n",
    "    df = ori.getShapeV2(pos, r_i, mass, distances=dist, tolerance=0.001, iters_max=1000)\n",
    "    print(df)\n",
    "    dfs[\"rmax\"][i] = df[\"rmax\"]\n",
    "    dfs[\"shape\"][i] = df[\"shape\"]\n",
    "    dfs[\"iter\"][i] = df[\"iter\"]\n",
    "    dfs[\"tensor\"][i] = df[\"tensor\"]\n",
    "    dfs[\"ortho\"][i] = df[\"ortho\"]\n",
    "    dfs[\"a\"][i] = df[\"a\"]\n",
    "    dfs[\"b\"][i] = df[\"b\"]\n",
    "    dfs[\"c\"][i] = df[\"c\"]\n",
    "    dfs[\"s\"][i] = df[\"s\"]\n",
    "    dfs[\"p\"][i] = df[\"p\"]\n",
    "    dfs[\"q\"][i] = df[\"q\"]\n",
    "\n",
    "af = asdf.AsdfFile(dfs)\n",
    "af.write_to(\"tmp_2.asdf\")"
   ]
  },
  {
   "cell_type": "code",
   "execution_count": null,
   "id": "c8a6144a",
   "metadata": {},
   "outputs": [],
   "source": [
    "## VERSION 3\n",
    "\n",
    "%autoreload 2\n",
    "dfs = {\n",
    "        \"rmax\": np.zeros(N_logspace),\n",
    "        \"shape\": np.zeros(N_logspace),\n",
    "        \"iter\": np.zeros(N_logspace),\n",
    "        \"tensor\": np.zeros((N_logspace, 3,3)),\n",
    "        \"ortho\": np.zeros(N_logspace),\n",
    "        \"a\": np.zeros(N_logspace),\n",
    "        \"b\": np.zeros(N_logspace),\n",
    "        \"c\": np.zeros(N_logspace),\n",
    "        \"s\": np.zeros(N_logspace),\n",
    "        \"p\": np.zeros(N_logspace),\n",
    "        \"q\": np.zeros(N_logspace),\n",
    "    }\n",
    "\n",
    "for i, r_i in enumerate(r):\n",
    "    print(\"Running @\", r_i)\n",
    "    df = ori.getShapeV3(pos, r_i, mass, distances=dist, tolerance=0.001, iters_max=1000)\n",
    "    print(df)\n",
    "    dfs[\"rmax\"][i] = df[\"rmax\"]\n",
    "    dfs[\"shape\"][i] = df[\"shape\"]\n",
    "    dfs[\"iter\"][i] = df[\"iter\"]\n",
    "    dfs[\"tensor\"][i] = df[\"tensor\"]\n",
    "    dfs[\"ortho\"][i] = df[\"ortho\"]\n",
    "    dfs[\"a\"][i] = df[\"a\"]\n",
    "    dfs[\"b\"][i] = df[\"b\"]\n",
    "    dfs[\"c\"][i] = df[\"c\"]\n",
    "    dfs[\"s\"][i] = df[\"s\"]\n",
    "    dfs[\"p\"][i] = df[\"p\"]\n",
    "    dfs[\"q\"][i] = df[\"q\"]\n",
    "\n",
    "af = asdf.AsdfFile(dfs)\n",
    "af.write_to(\"tmp_3.asdf\")"
   ]
  },
  {
   "cell_type": "code",
   "execution_count": 7,
   "id": "3850f13c",
   "metadata": {},
   "outputs": [
    {
     "data": {
      "text/plain": [
       "96239056"
      ]
     },
     "execution_count": 7,
     "metadata": {},
     "output_type": "execute_result"
    }
   ],
   "source": [
    "len(pos)"
   ]
  },
  {
   "cell_type": "code",
   "execution_count": null,
   "id": "a130fe30",
   "metadata": {},
   "outputs": [],
   "source": []
  }
 ],
 "metadata": {
  "kernelspec": {
   "display_name": "Python 3 (ipykernel)",
   "language": "python",
   "name": "python3"
  },
  "language_info": {
   "codemirror_mode": {
    "name": "ipython",
    "version": 3
   },
   "file_extension": ".py",
   "mimetype": "text/x-python",
   "name": "python",
   "nbconvert_exporter": "python",
   "pygments_lexer": "ipython3",
   "version": "3.8.10"
  }
 },
 "nbformat": 4,
 "nbformat_minor": 5
}
