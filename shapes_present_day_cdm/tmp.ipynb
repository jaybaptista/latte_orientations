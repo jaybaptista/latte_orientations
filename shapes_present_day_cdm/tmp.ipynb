{
 "cells": [
  {
   "cell_type": "code",
   "execution_count": 1,
   "id": "026efd28",
   "metadata": {},
   "outputs": [],
   "source": [
    "import matplotlib.pyplot as plt\n",
    "import numpy as np\n",
    "import asdf"
   ]
  },
  {
   "cell_type": "code",
   "execution_count": 3,
   "id": "08d23272",
   "metadata": {},
   "outputs": [],
   "source": [
    "data = asdf.open(\"./i1000 log run/shapes_present_day_m12f_res7100.asdf\")"
   ]
  },
  {
   "cell_type": "code",
   "execution_count": 4,
   "id": "d221db50",
   "metadata": {},
   "outputs": [
    {
     "name": "stdout",
     "output_type": "stream",
     "text": [
      "\u001b[1mroot\u001b[0m (AsdfObject)\n",
      "\u001b[2m├─\u001b[0m\u001b[1masdf_library\u001b[0m (Software)\n",
      "\u001b[2m│ ├─\u001b[0m\u001b[1mauthor\u001b[0m (str): The ASDF Developers\n",
      "\u001b[2m│ ├─\u001b[0m\u001b[1mhomepage\u001b[0m (str): http://github.com/asdf-format/asdf\n",
      "\u001b[2m│ ├─\u001b[0m\u001b[1mname\u001b[0m (str): asdf\n",
      "\u001b[2m│ └─\u001b[0m\u001b[1mversion\u001b[0m (str): 2.10.1\n",
      "\u001b[2m├─\u001b[0m\u001b[1mhistory\u001b[0m (dict)\n",
      "\u001b[2m│ └─\u001b[0m\u001b[1mextensions\u001b[0m (list)\n",
      "\u001b[2m│   └─\u001b[0m[\u001b[1m0\u001b[0m] (ExtensionMetadata)\n",
      "\u001b[2m│     ├─\u001b[0m\u001b[1mextension_class\u001b[0m (str): asdf.extension.BuiltinExtension\n",
      "\u001b[2m│     └─\u001b[0m\u001b[1msoftware\u001b[0m (Software)\u001b[3m ...\u001b[0m\n",
      "\u001b[2m├─\u001b[0m\u001b[1ma\u001b[0m (NDArrayType): shape=(20,), dtype=float64\n",
      "\u001b[2m├─\u001b[0m\u001b[1mb\u001b[0m (NDArrayType): shape=(20,), dtype=float64\n",
      "\u001b[2m├─\u001b[0m\u001b[1mc\u001b[0m (NDArrayType): shape=(20,), dtype=float64\n",
      "\u001b[2m├─\u001b[0m\u001b[1miter\u001b[0m (NDArrayType): shape=(20,), dtype=float64\n",
      "\u001b[2m├─\u001b[0m\u001b[1mortho\u001b[0m (NDArrayType): shape=(20,), dtype=float64\n",
      "\u001b[2m├─\u001b[0m\u001b[1mp\u001b[0m (NDArrayType): shape=(20,), dtype=float64\n",
      "\u001b[2m├─\u001b[0m\u001b[1mq\u001b[0m (NDArrayType): shape=(20,), dtype=float64\n",
      "\u001b[2m├─\u001b[0m\u001b[1mrmax\u001b[0m (NDArrayType): shape=(20,), dtype=float64\n",
      "\u001b[2m├─\u001b[0m\u001b[1ms\u001b[0m (NDArrayType): shape=(20,), dtype=float64\n",
      "\u001b[2m├─\u001b[0m\u001b[1mshape\u001b[0m (NDArrayType): shape=(20,), dtype=float64\n",
      "\u001b[2m└─\u001b[0m\u001b[1mtensor\u001b[0m (NDArrayType): shape=(20, 3, 3), dtype=float64\n",
      "\u001b[2m\u001b[3mSome nodes not shown.\u001b[0m\u001b[0m\n"
     ]
    }
   ],
   "source": [
    "data.info()"
   ]
  },
  {
   "cell_type": "code",
   "execution_count": null,
   "id": "7ccb49bc",
   "metadata": {},
   "outputs": [],
   "source": []
  }
 ],
 "metadata": {
  "kernelspec": {
   "display_name": "Python 3 (ipykernel)",
   "language": "python",
   "name": "python3"
  },
  "language_info": {
   "codemirror_mode": {
    "name": "ipython",
    "version": 3
   },
   "file_extension": ".py",
   "mimetype": "text/x-python",
   "name": "python",
   "nbconvert_exporter": "python",
   "pygments_lexer": "ipython3",
   "version": "3.8.10"
  }
 },
 "nbformat": 4,
 "nbformat_minor": 5
}
