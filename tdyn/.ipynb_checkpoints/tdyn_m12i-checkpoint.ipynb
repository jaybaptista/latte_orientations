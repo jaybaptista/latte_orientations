{
 "cells": [
  {
   "cell_type": "code",
   "execution_count": 22,
   "id": "bd39865f",
   "metadata": {},
   "outputs": [],
   "source": [
    "import gizmo_analysis as gizmo\n",
    "import matplotlib.pyplot as plt\n",
    "from matplotlib import colors\n",
    "import asdf\n",
    "import numpy as np\n",
    "import astropy.units as u\n",
    "import astropy.constants as c\n",
    "\n",
    "plt.rcParams.update({\"font.family\": \"serif\"})"
   ]
  },
  {
   "cell_type": "code",
   "execution_count": 4,
   "id": "f02a732e",
   "metadata": {},
   "outputs": [
    {
     "name": "stdout",
     "output_type": "stream",
     "text": [
      "\n",
      "# in utilities.simulation.Snapshot():\n",
      "* reading:  data/latte_metaldiff/m12i_res7100/snapshot_times.txt\n",
      "\n",
      "* input redshift = 0:  using snapshot index = 600, redshift = 0.000\n",
      "\n",
      "\n",
      "# in gizmo_analysis.gizmo_io.Read():\n",
      "* reading header from:  data/latte_metaldiff/m12i_res7100/output/snapdir_600/snapshot_600.0.hdf5\n",
      "  snapshot contains the following number of particles:\n",
      "    dark      (id = 1): 70514272 particles\n",
      "    dark2     (id = 2): 5513331 particles\n",
      "    gas       (id = 0): 57060074 particles\n",
      "    star      (id = 4): 13976485 particles\n",
      "    blackhole (id = 5): 0 particles\n",
      "\n",
      "* reading the following\n",
      "  species: ['dark', 'star', 'gas']\n",
      "\n",
      "* reading particles from:\n",
      "    snapshot_600.0.hdf5\n",
      "    snapshot_600.1.hdf5\n",
      "    snapshot_600.2.hdf5\n",
      "    snapshot_600.3.hdf5\n",
      "\n",
      "* reading cosmological parameters from:  data/latte_metaldiff/m12i_res7100/initial_condition/ic_agora_m12i.conf\n",
      "\n",
      "* checking sanity of particle properties\n",
      "\n",
      "\n",
      "# in gizmo_analysis.gizmo_track.ParticleCoordinate():\n",
      "  read 1 host (position, velocity, principal axes) from:  data/latte_metaldiff/m12i_res7100/track/host_coordinates.hdf5\n",
      "  host1 position = (41792.15, 44131.23, 46267.68) [kpc comoving]\n",
      "  host1 velocity = (-52.2, 73.6, 94.7) [km / s]\n",
      "  host1 axis ratios = (0.16, 0.16, 0.99)\n",
      "\n"
     ]
    }
   ],
   "source": [
    "sim_dir = \"../../../data/latte_metaldiff/\"\n",
    "sims_name = \"m12i_res7100\"\n",
    "part = gizmo.io.Read.read_snapshots([\"dark\", \"star\", \"gas\"], \"redshift\", 0, sim_dir + sims_name, assign_hosts_rotation=True)"
   ]
  },
  {
   "cell_type": "code",
   "execution_count": 14,
   "id": "2f3f54e3",
   "metadata": {},
   "outputs": [],
   "source": [
    "divergence_radius = 64\n",
    "dmask_dm = (part[\"dark\"].prop(\"host.distance.total\") <= divergence_radius)\n",
    "dmask_star = (part[\"star\"].prop(\"host.distance.total\") <= divergence_radius)\n",
    "dmask_gas = (part[\"gas\"].prop(\"host.distance.total\") <= divergence_radius)"
   ]
  },
  {
   "cell_type": "code",
   "execution_count": 20,
   "id": "1dadeeaa",
   "metadata": {},
   "outputs": [],
   "source": [
    "total_mass_dm = np.sum(part[\"dark\"].prop(\"mass\")[dmask_dm])\n",
    "total_mass_star = np.sum(part[\"star\"].prop(\"mass\")[dmask_star])\n",
    "total_mass_gas = np.sum(part[\"gas\"].prop(\"mass\")[dmask_gas])\n",
    "total_mass = (total_mass_dm+total_mass_star+total_mass_gas) * u.Msun"
   ]
  },
  {
   "cell_type": "code",
   "execution_count": 26,
   "id": "8fadbdb0",
   "metadata": {},
   "outputs": [],
   "source": [
    "v_circ = (c.G * total_mass / (divergence_radius * u.kpc))**(1/2)"
   ]
  },
  {
   "cell_type": "code",
   "execution_count": 27,
   "id": "9ce76d84",
   "metadata": {},
   "outputs": [],
   "source": [
    "t_dyn = 2*np.pi*(divergence_radius * u.kpc) / v_circ"
   ]
  },
  {
   "cell_type": "code",
   "execution_count": 29,
   "id": "2174cad1",
   "metadata": {},
   "outputs": [
    {
     "data": {
      "text/latex": [
       "$2.19472 \\; \\mathrm{Gyr}$"
      ],
      "text/plain": [
       "<Quantity 2.19471999 Gyr>"
      ]
     },
     "execution_count": 29,
     "metadata": {},
     "output_type": "execute_result"
    }
   ],
   "source": [
    "t_dyn.to(u.Gyr)"
   ]
  },
  {
   "cell_type": "code",
   "execution_count": 36,
   "id": "126852df",
   "metadata": {
    "scrolled": true
   },
   "outputs": [
    {
     "name": "stdout",
     "output_type": "stream",
     "text": [
      "-2.2799999999999976 Gyr\n"
     ]
    }
   ],
   "source": [
    "peri_time = 8.04 * u.Gyr\n",
    "lookback_time =  (13.8 * u.Gyr) - peri_time\n",
    "print(lookback_time - peri_time)"
   ]
  },
  {
   "cell_type": "code",
   "execution_count": null,
   "id": "d23e33d5",
   "metadata": {},
   "outputs": [],
   "source": []
  }
 ],
 "metadata": {
  "kernelspec": {
   "display_name": "Python 3 (ipykernel)",
   "language": "python",
   "name": "python3"
  },
  "language_info": {
   "codemirror_mode": {
    "name": "ipython",
    "version": 3
   },
   "file_extension": ".py",
   "mimetype": "text/x-python",
   "name": "python",
   "nbconvert_exporter": "python",
   "pygments_lexer": "ipython3",
   "version": "3.8.10"
  }
 },
 "nbformat": 4,
 "nbformat_minor": 5
}
