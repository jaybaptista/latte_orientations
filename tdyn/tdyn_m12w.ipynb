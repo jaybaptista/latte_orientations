{
 "cells": [
  {
   "cell_type": "code",
   "execution_count": 1,
   "id": "1015f543",
   "metadata": {},
   "outputs": [],
   "source": [
    "import gizmo_analysis as gizmo\n",
    "import matplotlib.pyplot as plt\n",
    "from matplotlib import colors\n",
    "import asdf\n",
    "import numpy as np\n",
    "import astropy.units as u\n",
    "import astropy.constants as c\n",
    "\n",
    "plt.rcParams.update({\"font.family\": \"serif\"})"
   ]
  },
  {
   "cell_type": "code",
   "execution_count": 2,
   "id": "5d58fce9",
   "metadata": {},
   "outputs": [
    {
     "name": "stdout",
     "output_type": "stream",
     "text": [
      "\n",
      "# in utilities.simulation.Snapshot():\n",
      "* reading:  data/latte_metaldiff/m12w_res7100/snapshot_times.txt\n",
      "\n",
      "* input redshift = 0:  using snapshot index = 600, redshift = 0.000\n",
      "\n",
      "\n",
      "# in gizmo_analysis.gizmo_io.Read():\n",
      "* reading header from:  data/latte_metaldiff/m12w_res7100/output/snapdir_600/snapshot_600.0.hdf5\n",
      "  snapshot contains the following number of particles:\n",
      "    dark      (id = 1): 73279248 particles\n",
      "    dark2     (id = 2): 6998776 particles\n",
      "    gas       (id = 0): 60919402 particles\n",
      "    star      (id = 4): 12836631 particles\n",
      "    blackhole (id = 5): 0 particles\n",
      "\n",
      "* reading the following\n",
      "  species: ['dark', 'star', 'gas']\n",
      "\n",
      "* reading particles from:\n",
      "    snapshot_600.0.hdf5\n",
      "    snapshot_600.1.hdf5\n",
      "    snapshot_600.2.hdf5\n",
      "    snapshot_600.3.hdf5\n",
      "\n",
      "! cannot find MUSIC config file:  data/latte_metaldiff/m12w_res7100/*/*.conf\n",
      "! missing cosmological parameters, assuming the following (from AGORA):\n",
      "  assuming omega_baryon = 0.0455\n",
      "  assuming sigma_8 = 0.807\n",
      "  assuming n_s = 0.961\n",
      "\n",
      "* checking sanity of particle properties\n",
      "! warning: gas mass [min, med, max] = [7126.535, 7126.535, 35971.633]\n",
      "\n",
      "\n",
      "# in gizmo_analysis.gizmo_track.ParticleCoordinate():\n",
      "  read 1 host (position, velocity, principal axes) from:  data/latte_metaldiff/m12w_res7100/track/host_coordinates.hdf5\n",
      "  host1 position = (83998.07, 85856.31, 89877.45) [kpc comoving]\n",
      "  host1 velocity = (-63.7, -9.2, 97.2) [km / s]\n",
      "  host1 axis ratios = (0.23, 0.25, 0.94)\n",
      "\n"
     ]
    }
   ],
   "source": [
    "sim_dir = \"../../../data/latte_metaldiff/\"\n",
    "sims_name = \"m12w_res7100\"\n",
    "part = gizmo.io.Read.read_snapshots([\"dark\", \"star\", \"gas\"], \"redshift\", 0, sim_dir + sims_name, assign_hosts_rotation=True)"
   ]
  },
  {
   "cell_type": "code",
   "execution_count": 3,
   "id": "94dc1615",
   "metadata": {},
   "outputs": [],
   "source": [
    "divergence_radius = 96\n",
    "dmask_dm = (part[\"dark\"].prop(\"host.distance.total\") <= divergence_radius)\n",
    "dmask_star = (part[\"star\"].prop(\"host.distance.total\") <= divergence_radius)\n",
    "dmask_gas = (part[\"gas\"].prop(\"host.distance.total\") <= divergence_radius)"
   ]
  },
  {
   "cell_type": "code",
   "execution_count": 4,
   "id": "ff80888b",
   "metadata": {},
   "outputs": [],
   "source": [
    "total_mass_dm = np.sum(part[\"dark\"].prop(\"mass\")[dmask_dm])\n",
    "total_mass_star = np.sum(part[\"star\"].prop(\"mass\")[dmask_star])\n",
    "total_mass_gas = np.sum(part[\"gas\"].prop(\"mass\")[dmask_gas])\n",
    "total_mass = (total_mass_dm+total_mass_star+total_mass_gas) * u.Msun"
   ]
  },
  {
   "cell_type": "code",
   "execution_count": 5,
   "id": "387da718",
   "metadata": {},
   "outputs": [],
   "source": [
    "v_circ = (c.G * total_mass / (divergence_radius * u.kpc))**(1/2)"
   ]
  },
  {
   "cell_type": "code",
   "execution_count": 6,
   "id": "40b48b98",
   "metadata": {},
   "outputs": [],
   "source": [
    "t_dyn = 2*np.pi*(divergence_radius * u.kpc) / v_circ"
   ]
  },
  {
   "cell_type": "code",
   "execution_count": 7,
   "id": "6f5e86a8",
   "metadata": {},
   "outputs": [
    {
     "data": {
      "text/latex": [
       "$3.8288613 \\; \\mathrm{Gyr}$"
      ],
      "text/plain": [
       "<Quantity 3.82886128 Gyr>"
      ]
     },
     "execution_count": 7,
     "metadata": {},
     "output_type": "execute_result"
    }
   ],
   "source": [
    "t_dyn.to(u.Gyr)"
   ]
  },
  {
   "cell_type": "code",
   "execution_count": 11,
   "id": "d34ea618",
   "metadata": {
    "scrolled": true
   },
   "outputs": [
    {
     "name": "stdout",
     "output_type": "stream",
     "text": [
      "1.8511387166841295 Gyr\n"
     ]
    }
   ],
   "source": [
    "peri_time = 8.12 * u.Gyr\n",
    "lookback_time =  (13.8 * u.Gyr) - peri_time\n",
    "print(lookback_time - t_dyn)"
   ]
  },
  {
   "cell_type": "code",
   "execution_count": null,
   "id": "3322f065",
   "metadata": {},
   "outputs": [],
   "source": []
  }
 ],
 "metadata": {
  "kernelspec": {
   "display_name": "Python 3 (ipykernel)",
   "language": "python",
   "name": "python3"
  },
  "language_info": {
   "codemirror_mode": {
    "name": "ipython",
    "version": 3
   },
   "file_extension": ".py",
   "mimetype": "text/x-python",
   "name": "python",
   "nbconvert_exporter": "python",
   "pygments_lexer": "ipython3",
   "version": "3.8.10"
  }
 },
 "nbformat": 4,
 "nbformat_minor": 5
}
