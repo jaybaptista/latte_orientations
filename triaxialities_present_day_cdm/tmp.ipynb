{
 "cells": [
  {
   "cell_type": "code",
   "execution_count": 3,
   "id": "062399f7",
   "metadata": {},
   "outputs": [
    {
     "name": "stdout",
     "output_type": "stream",
     "text": [
      "\n",
      "# in utilities.simulation.Snapshot():\n",
      "* reading:  data/latte_metaldiff/m12f_res7100/snapshot_times.txt\n",
      "\n",
      "* input redshift = 0:  using snapshot index = 600, redshift = 0.000\n",
      "\n",
      "\n",
      "# in gizmo_analysis.gizmo_io.Read():\n",
      "* reading header from:  data/latte_metaldiff/m12f_res7100/output/snapdir_600/snapshot_600.0.hdf5\n",
      "  snapshot contains the following number of particles:\n",
      "    dark      (id = 1): 96239056 particles\n",
      "    dark2     (id = 2): 7591203 particles\n",
      "    gas       (id = 0): 80307825 particles\n",
      "    star      (id = 4): 16066489 particles\n",
      "    blackhole (id = 5): 0 particles\n",
      "\n",
      "* reading species: ['dark']\n",
      "* reading particles from:\n",
      "    snapshot_600.0.hdf5\n",
      "    snapshot_600.1.hdf5\n",
      "    snapshot_600.2.hdf5\n",
      "    snapshot_600.3.hdf5\n",
      "\n",
      "* reading cosmological parameters from:  data/latte_metaldiff/m12f_res7100/initial_condition/ic_agora_m12f.conf\n",
      "\n",
      "* checking sanity of particle properties\n",
      "\n",
      "\n",
      "# in gizmo_analysis.gizmo_track.ParticleCoordinate():\n",
      "  read 1 host (position, velocity, principal axes) from:  data/latte_metaldiff/m12f_res7100/track/host_coordinates.hdf5\n",
      "  host1 position = (38711.76, 47665.07, 46817.27) [kpc comoving]\n",
      "  host1 velocity = (-156.3, 161.7, 106.2) [km / s]\n",
      "  host1 axis ratios = (0.16, 0.17, 0.97)\n",
      "\n"
     ]
    }
   ],
   "source": [
    "import orientations\n",
    "import gizmo_analysis as gizmo\n",
    "\n",
    "simulation_list = [\n",
    "    \"../../../data/latte_metaldiff/m12f_res7100\",\n",
    "    \"../../../data/latte_metaldiff/m12i_res7100\",\n",
    "    \"../../../data/latte_metaldiff/m12m_res7100\",\n",
    "    \"../../../data/latte_metaldiff/m12w_res7100\",\n",
    "]\n",
    "\n",
    "part = gizmo.io.Read.read_snapshots([\"dark\"], \"redshift\", 0, simulation_list[0], assign_hosts_rotation=True)\n",
    "\n",
    "positions = part[\"dark\"].prop(\"host.distance\")\n",
    "distances = part[\"dark\"].prop(\"host.distance.total\")"
   ]
  },
  {
   "cell_type": "code",
   "execution_count": 5,
   "id": "f7524969",
   "metadata": {},
   "outputs": [
    {
     "name": "stdout",
     "output_type": "stream",
     "text": [
      "Shape iteration = 10\n",
      "Shape iteration = 20\n"
     ]
    }
   ],
   "source": [
    "df_r50 = orientations.getShape(\n",
    "    positions=positions,\n",
    "    rmax=50,\n",
    "    distances=distances,\n",
    "    tolerance=0.001,\n",
    "    iters_max=1000\n",
    ")"
   ]
  },
  {
   "cell_type": "code",
   "execution_count": 6,
   "id": "0979d6f0",
   "metadata": {},
   "outputs": [
    {
     "data": {
      "text/plain": [
       "{'rmax': 50,\n",
       " 'shape': 0.10716220662516548,\n",
       " 'iter': 22,\n",
       " 'tensor': array([[ 0.55197942, -0.83103326,  0.0685743 ],\n",
       "        [-0.83176841, -0.55454931, -0.02522641],\n",
       "        [-0.05899182,  0.04311348,  0.99732702]]),\n",
       " 'ortho': 0,\n",
       " 'a': 1801.0076463601804,\n",
       " 'b': 1770.237687899812,\n",
       " 'c': 1489.3626390785046,\n",
       " 's': 0.8269607528255044,\n",
       " 'p': 0.8413348383998456,\n",
       " 'q': 0.9829151427965593}"
      ]
     },
     "execution_count": 6,
     "metadata": {},
     "output_type": "execute_result"
    }
   ],
   "source": [
    "df_r50"
   ]
  },
  {
   "cell_type": "code",
   "execution_count": 7,
   "id": "a3bbfd12",
   "metadata": {},
   "outputs": [
    {
     "name": "stdout",
     "output_type": "stream",
     "text": [
      "Shape iteration = 10\n"
     ]
    }
   ],
   "source": [
    "df_r100 = orientations.getShape(\n",
    "    positions=positions,\n",
    "    rmax=100,\n",
    "    distances=distances,\n",
    "    tolerance=0.001,\n",
    "    iters_max=1000\n",
    ")"
   ]
  },
  {
   "cell_type": "code",
   "execution_count": 8,
   "id": "48428825",
   "metadata": {},
   "outputs": [
    {
     "data": {
      "text/plain": [
       "{'rmax': 100,\n",
       " 'shape': 0.09588404263977832,\n",
       " 'iter': 10,\n",
       " 'tensor': array([[ 0.54419038, -0.8377954 , -0.04422322],\n",
       "        [-0.83884755, -0.54422959, -0.01220429],\n",
       "        [ 0.01384289, -0.043738  ,  0.99894713]]),\n",
       " 'ortho': 0,\n",
       " 'a': 2390.363017030748,\n",
       " 'b': 2347.9692015347628,\n",
       " 'c': 1902.326653072477,\n",
       " 's': 0.7958316956541195,\n",
       " 'p': 0.8102008543506495,\n",
       " 'q': 0.9822646956993814}"
      ]
     },
     "execution_count": 8,
     "metadata": {},
     "output_type": "execute_result"
    }
   ],
   "source": [
    "df_r100"
   ]
  },
  {
   "cell_type": "code",
   "execution_count": null,
   "id": "6dd98596",
   "metadata": {},
   "outputs": [],
   "source": []
  }
 ],
 "metadata": {
  "kernelspec": {
   "display_name": "Python 3 (ipykernel)",
   "language": "python",
   "name": "python3"
  },
  "language_info": {
   "codemirror_mode": {
    "name": "ipython",
    "version": 3
   },
   "file_extension": ".py",
   "mimetype": "text/x-python",
   "name": "python",
   "nbconvert_exporter": "python",
   "pygments_lexer": "ipython3",
   "version": "3.8.10"
  }
 },
 "nbformat": 4,
 "nbformat_minor": 5
}
