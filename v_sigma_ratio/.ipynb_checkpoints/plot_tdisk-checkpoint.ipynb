{
 "cells": [
  {
   "cell_type": "code",
   "execution_count": 22,
   "id": "c45721f9",
   "metadata": {},
   "outputs": [],
   "source": [
    "import matplotlib.pyplot as plt\n",
    "import asdf\n",
    "import numpy as np\n",
    "import matplotlib as mpl\n",
    "import orientations as ori\n",
    "\n",
    "plt.rcParams['font.family'] = 'serif'\n",
    "\n",
    "m12f = asdf.open('v_sigma_ratios_m12f_res7100.asdf')\n",
    "m12i = asdf.open('v_sigma_ratios_m12i_res7100.asdf')\n",
    "m12m = asdf.open('v_sigma_ratios_m12m_res7100.asdf')\n",
    "m12w = asdf.open('v_sigma_ratios_m12w_res7100.asdf')\n",
    "\n",
    "times = ori.getSnapshotData(\"../../../data/latte_metaldiff/m12i_res7100/\", np.array(m12f[\"snapshot\"]))[0]\n",
    "\n",
    "m12f_tdisk = 8 # z = 0.6069737862692042\n",
    "m12i_tdisk = 10 # z = 0.34\n",
    "m12m_tdisk = 10 # z = 0.34\n",
    "m12w_tdisk = 10 # z = 0.34"
   ]
  },
  {
   "cell_type": "code",
   "execution_count": 24,
   "id": "04d50eb5",
   "metadata": {},
   "outputs": [],
   "source": [
    "fig, axs = plt.subplots(2, 2, dpi=200, sharey=True)\n",
    "((axf, axi), (axm, axw)) = axs\n",
    "\n",
    "f_nan_mask = np.isnan(m12f[\"v.sigma.ratio\"]) | np.isinf(m12f[\"v.sigma.ratio\"])\n",
    "i_nan_mask = np.isnan(m12i[\"v.sigma.ratio\"]) | np.isinf(m12i[\"v.sigma.ratio\"])\n",
    "m_nan_mask = np.isnan(m12m[\"v.sigma.ratio\"]) | np.isinf(m12m[\"v.sigma.ratio\"])\n",
    "w_nan_mask = np.isnan(m12w[\"v.sigma.ratio\"]) | np.isinf(m12w[\"v.sigma.ratio\"])\n",
    "\n",
    "axf.plot(times[~f_nan_mask], m12f[\"v.sigma.ratio\"][~f_nan_mask], c='k')\n",
    "axi.plot(times[~i_nan_mask], m12i[\"v.sigma.ratio\"][~i_nan_mask], c='k')\n",
    "axm.plot(times[~m_nan_mask], m12m[\"v.sigma.ratio\"][~m_nan_mask], c='k')\n",
    "axw.plot(times[~w_nan_mask], m12w[\"v.sigma.ratio\"][~w_nan_mask], c='k')\n",
    "\n",
    "axf.axvline(m12f_tdisk, c='r', alpha=.75, label=\"$t_\\mathrm{disk}$\")\n",
    "axi.axvline(m12i_tdisk, c='r', alpha=.75)\n",
    "axm.axvline(m12m_tdisk, c='r', alpha=.75)\n",
    "axw.axvline(m12w_tdisk, c='r', alpha=.75)\n",
    "\n",
    "axf.axvline(10.79, c='r', alpha=.75)\n",
    "axi.axvline(8.06, c='r', alpha=.75)\n",
    "axm.axvline(6.33, c='r', alpha=.75)\n",
    "axw.axvline(7.97, c='r', alpha=.75, label=\"$t_\\mathrm{peri}$\")\n",
    "\n",
    "axf.set_title('m12f')\n",
    "axi.set_title('m12i')\n",
    "axw.set_title('m12w')\n",
    "axm.set_title('m12m')\n",
    "\n",
    "fig.text(.5, -0.05, 'Cosmic time [Gyr]', ha='center', fontsize=18)\n",
    "fig.text(-0.05, .5, r'$\\langle v_\\phi \\rangle / \\sigma_{v, \\phi}$', va='center', rotation=90, fontsize=18)\n",
    "\n",
    "axf.legend(loc='upper left')\n",
    "\n",
    "fig.tight_layout()\n",
    "plt.savefig(\"vsr_alltime_tdisk.png\", bbox_inches=\"tight\")\n",
    "plt.show()"
   ]
  },
  {
   "cell_type": "code",
   "execution_count": 27,
   "id": "df776f39",
   "metadata": {},
   "outputs": [
    {
     "data": {
      "text/plain": [
       "0.34081790938245105"
      ]
     },
     "execution_count": 27,
     "metadata": {},
     "output_type": "execute_result"
    }
   ],
   "source": [
    "import utilities as ut\n",
    "cosmology = ut.cosmology.CosmologyClass(source='agora')\n",
    "cosmology.convert_time('redshift', 'time', 10)"
   ]
  },
  {
   "cell_type": "code",
   "execution_count": null,
   "id": "18089c96",
   "metadata": {},
   "outputs": [],
   "source": []
  }
 ],
 "metadata": {
  "kernelspec": {
   "display_name": "Python 3 (ipykernel)",
   "language": "python",
   "name": "python3"
  },
  "language_info": {
   "codemirror_mode": {
    "name": "ipython",
    "version": 3
   },
   "file_extension": ".py",
   "mimetype": "text/x-python",
   "name": "python",
   "nbconvert_exporter": "python",
   "pygments_lexer": "ipython3",
   "version": "3.8.10"
  }
 },
 "nbformat": 4,
 "nbformat_minor": 5
}
