{
 "cells": [
  {
   "cell_type": "code",
   "execution_count": 1,
   "id": "c45721f9",
   "metadata": {},
   "outputs": [
    {
     "name": "stdout",
     "output_type": "stream",
     "text": [
      "don't have phil's colormaps\n"
     ]
    }
   ],
   "source": [
    "import matplotlib.pyplot as plt\n",
    "import asdf\n",
    "import orientations as ori\n",
    "import numpy as np"
   ]
  },
  {
   "cell_type": "code",
   "execution_count": 12,
   "id": "65fbd937",
   "metadata": {},
   "outputs": [],
   "source": [
    "data_f = asdf.open(\"./v_sigma_ratios_m12f_res7100.asdf\")\n",
    "data_i = asdf.open(\"./v_sigma_ratios_m12i_res7100.asdf\")\n",
    "data_m = asdf.open(\"./v_sigma_ratios_m12m_res7100.asdf\")"
   ]
  },
  {
   "cell_type": "code",
   "execution_count": 13,
   "id": "785057e8",
   "metadata": {},
   "outputs": [],
   "source": [
    "times = ori.getSnapshotData(\"../../../data/latte_metaldiff/m12i_res7100\", np.array(data[\"snapshot\"]))"
   ]
  },
  {
   "cell_type": "code",
   "execution_count": 15,
   "id": "bf212ba4",
   "metadata": {},
   "outputs": [],
   "source": [
    "nan_mask_f = np.isnan(data_f[\"v.sigma.ratio\"])\n",
    "nan_mask_i = np.isnan(data_i[\"v.sigma.ratio\"])\n",
    "nan_mask_m = np.isnan(data_m[\"v.sigma.ratio\"])\n",
    "\n",
    "fig, ax = plt.subplots(dpi=200)\n",
    "ax.plot(times[0][~nan_mask_f], data_f[\"v.sigma.ratio\"][~nan_mask_f])\n",
    "ax.plot(times[0][~nan_mask_i], data_i[\"v.sigma.ratio\"][~nan_mask_i])\n",
    "ax.plot(times[0][~nan_mask_m], data_m[\"v.sigma.ratio\"][~nan_mask_m])\n",
    "\n",
    "plt.savefig(\"tmp.png\")\n",
    "plt.show()"
   ]
  },
  {
   "cell_type": "code",
   "execution_count": 11,
   "id": "a1794663",
   "metadata": {},
   "outputs": [
    {
     "data": {
      "text/plain": [
       "array([        nan,         nan,         nan,  0.10677189, -0.3260144 ,\n",
       "               nan,  0.46134356,         nan,  0.60865653,         inf,\n",
       "       -0.44019595,  1.11497021,  0.20087892,  1.00771201,  0.18493982,\n",
       "        0.23953599,  0.1207978 , -1.45429492,  0.1997143 ,  0.02808127,\n",
       "        0.03400784,  1.32000065,  0.90202993,  1.87838626,  1.21572268,\n",
       "        0.70921004,  1.39694142,  1.11202466,  1.34995556,  1.53715479,\n",
       "        1.31507552,  0.99843615,  1.85447478,  1.26722121,  1.65049529,\n",
       "        1.93101454,  1.67956746,  2.22883081,  2.22381186,  2.16574192,\n",
       "        2.55784822,  2.53920746,  2.56943226,  2.59047937,  2.76781702,\n",
       "        2.81890869,  3.00678372,  3.01511502,  3.05199599,  3.09558606,\n",
       "        3.12191772,  3.1745286 ,  3.16637135,  3.15658283,  3.22281289,\n",
       "        3.22672224,  3.32090402,  3.25876689,  3.24951053,  3.23941755])"
      ]
     },
     "execution_count": 11,
     "metadata": {},
     "output_type": "execute_result"
    }
   ],
   "source": [
    "data[\"v.sigma.ratio\"]"
   ]
  },
  {
   "cell_type": "code",
   "execution_count": null,
   "id": "04d50eb5",
   "metadata": {},
   "outputs": [],
   "source": []
  }
 ],
 "metadata": {
  "kernelspec": {
   "display_name": "Python 3 (ipykernel)",
   "language": "python",
   "name": "python3"
  },
  "language_info": {
   "codemirror_mode": {
    "name": "ipython",
    "version": 3
   },
   "file_extension": ".py",
   "mimetype": "text/x-python",
   "name": "python",
   "nbconvert_exporter": "python",
   "pygments_lexer": "ipython3",
   "version": "3.8.10"
  }
 },
 "nbformat": 4,
 "nbformat_minor": 5
}
