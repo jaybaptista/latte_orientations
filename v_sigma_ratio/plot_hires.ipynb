{
 "cells": [
  {
   "cell_type": "code",
   "execution_count": 1,
   "id": "6a1d63d1",
   "metadata": {},
   "outputs": [
    {
     "name": "stdout",
     "output_type": "stream",
     "text": [
      "don't have phil's colormaps\n"
     ]
    }
   ],
   "source": [
    "import matplotlib.pyplot as plt\n",
    "import asdf\n",
    "import numpy as np\n",
    "import matplotlib as mpl\n",
    "import orientations as ori\n",
    "\n",
    "plt.rcParams['font.family'] = 'serif'\n",
    "\n",
    "m12f = asdf.open('v_sigma_ratios_fullres_m12f_res7100.asdf')\n",
    "m12i = asdf.open('v_sigma_ratios_fullres_m12i_res7100.asdf')\n",
    "m12m = asdf.open('v_sigma_ratios_fullres_m12m_res7100.asdf')\n",
    "m12w = asdf.open('v_sigma_ratios_fullres_m12w_res7100.asdf')"
   ]
  },
  {
   "cell_type": "code",
   "execution_count": 2,
   "id": "48b43a10",
   "metadata": {},
   "outputs": [
    {
     "name": "stdout",
     "output_type": "stream",
     "text": [
      "\u001b[1mroot\u001b[0m (AsdfObject)\n",
      "\u001b[2m├─\u001b[0m\u001b[1masdf_library\u001b[0m (Software)\n",
      "\u001b[2m│ ├─\u001b[0m\u001b[1mauthor\u001b[0m (str): The ASDF Developers\n",
      "\u001b[2m│ ├─\u001b[0m\u001b[1mhomepage\u001b[0m (str): http://github.com/asdf-format/asdf\n",
      "\u001b[2m│ ├─\u001b[0m\u001b[1mname\u001b[0m (str): asdf\n",
      "\u001b[2m│ └─\u001b[0m\u001b[1mversion\u001b[0m (str): 2.10.1\n",
      "\u001b[2m├─\u001b[0m\u001b[1mhistory\u001b[0m (dict)\n",
      "\u001b[2m│ └─\u001b[0m\u001b[1mextensions\u001b[0m (list)\n",
      "\u001b[2m│   └─\u001b[0m[\u001b[1m0\u001b[0m] (ExtensionMetadata)\n",
      "\u001b[2m│     ├─\u001b[0m\u001b[1mextension_class\u001b[0m (str): asdf.extension.BuiltinExtension\n",
      "\u001b[2m│     └─\u001b[0m\u001b[1msoftware\u001b[0m (Software)\n",
      "\u001b[2m│       ├─\u001b[0m\u001b[1mname\u001b[0m (str): asdf\n",
      "\u001b[2m│       └─\u001b[0m\u001b[1mversion\u001b[0m (str): 2.10.1\n",
      "\u001b[2m├─\u001b[0m\u001b[1msnapshot\u001b[0m (NDArrayType): shape=(41,), dtype=int64\n",
      "\u001b[2m└─\u001b[0m\u001b[1mv.sigma.ratio\u001b[0m (NDArrayType): shape=(41,), dtype=float64\n"
     ]
    }
   ],
   "source": [
    "m12f.info()"
   ]
  },
  {
   "cell_type": "code",
   "execution_count": 4,
   "id": "e34ad606",
   "metadata": {},
   "outputs": [],
   "source": [
    "times_f = ori.getSnapshotData(\"../../../data/latte_metaldiff/m12i_res7100/\", np.array(m12f[\"snapshot\"]))[0]\n",
    "times_i = ori.getSnapshotData(\"../../../data/latte_metaldiff/m12i_res7100/\", np.array(m12i[\"snapshot\"]))[0]\n",
    "times_m = ori.getSnapshotData(\"../../../data/latte_metaldiff/m12i_res7100/\", np.array(m12m[\"snapshot\"]))[0]\n",
    "times_w = ori.getSnapshotData(\"../../../data/latte_metaldiff/m12i_res7100/\", np.array(m12w[\"snapshot\"]))[0]\n",
    "\n",
    "m12f_steady_m = times_f > 7.6\n",
    "m12i_steady_m = times_i > 9.1\n",
    "m12m_steady_m = times_m > 3.5\n",
    "m12w_steady_m = times_w > 8.4"
   ]
  },
  {
   "cell_type": "code",
   "execution_count": 18,
   "id": "adbfa8c4",
   "metadata": {},
   "outputs": [],
   "source": [
    "fig, axs = plt.subplots(1, 4, dpi=200, figsize=(10, 2.5), sharey=True)\n",
    "(axf, axi, axm, axw) = axs\n",
    "\n",
    "# for ax in axs.flatten():\n",
    "# #     ax.set_yscale('log')\n",
    "# #     ax.set_ylim(1e-1, 1e2)\n",
    "# #     ax.set_xlim(-5, 5)\n",
    "\n",
    "axf.scatter((times_f-10.79)[~m12f_steady_m], (m12f[\"v.sigma.ratio\"])[~m12f_steady_m], c='#fb8500')\n",
    "axi.scatter((times_i-8.06)[~m12i_steady_m], (m12i[\"v.sigma.ratio\"])[~m12i_steady_m], c='#fb8500')\n",
    "axm.scatter((times_m-6.33)[~m12m_steady_m], (m12m[\"v.sigma.ratio\"])[~m12m_steady_m], c='#fb8500')\n",
    "axw.scatter((times_w-7.97)[~m12w_steady_m], (m12w[\"v.sigma.ratio\"])[~m12w_steady_m], c='#fb8500', label='Bursty')\n",
    "\n",
    "axf.scatter((times_f-10.79)[m12f_steady_m], (m12f[\"v.sigma.ratio\"])[m12f_steady_m], c='#023047')\n",
    "axi.scatter((times_i-8.06)[m12i_steady_m], (m12i[\"v.sigma.ratio\"])[m12i_steady_m], c='#023047')\n",
    "axm.scatter((times_m-6.33)[m12m_steady_m], (m12m[\"v.sigma.ratio\"])[m12m_steady_m], c='#023047')\n",
    "axw.scatter((times_w-7.97)[m12w_steady_m], (m12w[\"v.sigma.ratio\"])[m12w_steady_m], c='#023047', label='Steady')\n",
    "\n",
    "axf.set_title('m12f')\n",
    "axi.set_title('m12i')\n",
    "axw.set_title('m12w')\n",
    "axm.set_title('m12m')\n",
    "\n",
    "fig.text(.5, -0.05, '$t-t_\\mathrm{peri}^\\mathrm{LMC}$ [Gyr]', ha='center', fontsize=18)\n",
    "fig.text(-0.05, .5, r'$\\langle v_\\phi \\rangle / \\sigma_{v, \\phi}$', va='center', rotation=90, fontsize=18)\n",
    "\n",
    "axw.legend(loc='lower left')\n",
    "\n",
    "fig.tight_layout()\n",
    "plt.savefig(\"vsr_cdm_tperi_hires.png\", bbox_inches=\"tight\")\n",
    "plt.show()"
   ]
  },
  {
   "cell_type": "code",
   "execution_count": 17,
   "id": "8f2578e0",
   "metadata": {},
   "outputs": [],
   "source": [
    "fig, axs = plt.subplots(2, 2, dpi=200, sharey=True)\n",
    "((axf, axi), (axm, axw)) = axs\n",
    "\n",
    "axf.scatter((times_f)[~m12f_steady_m], (m12f[\"v.sigma.ratio\"])[~m12f_steady_m], c='#fb8500')\n",
    "axi.scatter((times_i)[~m12i_steady_m], (m12i[\"v.sigma.ratio\"])[~m12i_steady_m], c='#fb8500')\n",
    "axm.scatter((times_m)[~m12m_steady_m], (m12m[\"v.sigma.ratio\"])[~m12m_steady_m], c='#fb8500')\n",
    "axw.scatter((times_w)[~m12w_steady_m], (m12w[\"v.sigma.ratio\"])[~m12w_steady_m], c='#fb8500', label='Bursty')\n",
    "\n",
    "axf.scatter((times_f)[m12f_steady_m], (m12f[\"v.sigma.ratio\"])[m12f_steady_m], c='#023047')\n",
    "axi.scatter((times_i)[m12i_steady_m], (m12i[\"v.sigma.ratio\"])[m12i_steady_m], c='#023047')\n",
    "axm.scatter((times_m)[m12m_steady_m], (m12m[\"v.sigma.ratio\"])[m12m_steady_m], c='#023047')\n",
    "axw.scatter((times_w)[m12w_steady_m], (m12w[\"v.sigma.ratio\"])[m12w_steady_m], c='#023047', label='Steady')\n",
    "\n",
    "\n",
    "axf.axvline(10.79, c='r', alpha=.75)\n",
    "axi.axvline(8.06, c='r', alpha=.75)\n",
    "axm.axvline(6.33, c='r', alpha=.75)\n",
    "axw.axvline(7.97, c='r', alpha=.75, label=\"$t_\\mathrm{peri}$\")\n",
    "\n",
    "axf.set_title('m12f')\n",
    "axi.set_title('m12i')\n",
    "axw.set_title('m12w')\n",
    "axm.set_title('m12m')\n",
    "\n",
    "fig.text(.5, -0.05, 'Time since beginning [Gyr]', ha='center', fontsize=18)\n",
    "fig.text(-0.05, .5, r'$\\langle v_\\phi \\rangle / \\sigma_{v, \\phi}$', va='center', rotation=90, fontsize=18)\n",
    "\n",
    "axw.legend(loc='lower left')\n",
    "\n",
    "fig.tight_layout()\n",
    "plt.savefig(\"vsr_alltime_cdm_tperi_hires.png\", bbox_inches=\"tight\")\n",
    "plt.show()"
   ]
  },
  {
   "cell_type": "code",
   "execution_count": null,
   "id": "f744e7e7",
   "metadata": {},
   "outputs": [],
   "source": []
  }
 ],
 "metadata": {
  "kernelspec": {
   "display_name": "Python 3 (ipykernel)",
   "language": "python",
   "name": "python3"
  },
  "language_info": {
   "codemirror_mode": {
    "name": "ipython",
    "version": 3
   },
   "file_extension": ".py",
   "mimetype": "text/x-python",
   "name": "python",
   "nbconvert_exporter": "python",
   "pygments_lexer": "ipython3",
   "version": "3.8.10"
  }
 },
 "nbformat": 4,
 "nbformat_minor": 5
}
