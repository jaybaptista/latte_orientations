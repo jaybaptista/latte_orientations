{
 "cells": [
  {
   "cell_type": "code",
   "execution_count": 9,
   "id": "c45721f9",
   "metadata": {},
   "outputs": [],
   "source": [
    "import matplotlib.pyplot as plt\n",
    "import asdf\n",
    "import orientations as ori\n",
    "import numpy as np"
   ]
  },
  {
   "cell_type": "code",
   "execution_count": 10,
   "id": "65fbd937",
   "metadata": {},
   "outputs": [],
   "source": [
    "data_f = asdf.open(\"./v_sigma_ratios_m12f_res7100.asdf\")\n",
    "data_i = asdf.open(\"./v_sigma_ratios_m12i_res7100.asdf\")\n",
    "data_m = asdf.open(\"./v_sigma_ratios_m12m_res7100.asdf\")"
   ]
  },
  {
   "cell_type": "code",
   "execution_count": 11,
   "id": "785057e8",
   "metadata": {},
   "outputs": [],
   "source": [
    "times = ori.getSnapshotData(\"../../../data/latte_metaldiff/m12i_res7100\", np.array(data_f[\"snapshot\"]))"
   ]
  },
  {
   "cell_type": "code",
   "execution_count": 12,
   "id": "bf212ba4",
   "metadata": {},
   "outputs": [],
   "source": [
    "nan_mask_f = np.isnan(data_f[\"v.sigma.ratio\"])\n",
    "nan_mask_i = np.isnan(data_i[\"v.sigma.ratio\"])\n",
    "nan_mask_m = np.isnan(data_m[\"v.sigma.ratio\"])\n",
    "\n",
    "fig, ax = plt.subplots(dpi=200)\n",
    "ax.plot(times[0][~nan_mask_f], data_f[\"v.sigma.ratio\"][~nan_mask_f])\n",
    "ax.plot(times[0][~nan_mask_i], data_i[\"v.sigma.ratio\"][~nan_mask_i])\n",
    "ax.plot(times[0][~nan_mask_m], data_m[\"v.sigma.ratio\"][~nan_mask_m])\n",
    "\n",
    "plt.savefig(\"tmp.png\")\n",
    "plt.show()"
   ]
  },
  {
   "cell_type": "code",
   "execution_count": 8,
   "id": "a1794663",
   "metadata": {},
   "outputs": [
    {
     "data": {
      "text/plain": [
       "array([        nan,         nan,  0.02639964,         nan,  2.75714397,\n",
       "        1.2622329 , -0.21555677, -0.46026337,         nan,  0.07953038,\n",
       "       -0.17903258, -0.78258926,  0.50644523, -0.21813731, -0.3957178 ,\n",
       "        0.47552064, -0.46492726,  0.93952185, -0.06717427,  0.43943414,\n",
       "        1.1748594 ,  1.10239637,  0.86784691,  1.70495796,  1.1167469 ,\n",
       "        0.40330622,  1.23202229,  1.04888201,  1.526245  ,  1.70654941,\n",
       "        2.3453784 ,  4.23276377,  1.53007686,  1.6400131 ,  2.95680952,\n",
       "        3.81607962,  4.9715066 ,  3.90566039,  4.72330189,  4.64993429,\n",
       "        5.23041344,  5.81292009,  4.95715284,  5.854105  ,  6.36416054,\n",
       "        6.73686838,  5.62932301,  5.64595652,  6.08201075,  6.36894369,\n",
       "        6.31965113,  6.58387184,  4.35914803,  5.87119627,  3.99330711,\n",
       "        5.17349195,  5.48223019,  5.24515867,  6.28298712,  6.15306711])"
      ]
     },
     "execution_count": 8,
     "metadata": {},
     "output_type": "execute_result"
    }
   ],
   "source": [
    "data_f[\"v.sigma.ratio\"]"
   ]
  },
  {
   "cell_type": "code",
   "execution_count": null,
   "id": "04d50eb5",
   "metadata": {},
   "outputs": [],
   "source": []
  }
 ],
 "metadata": {
  "kernelspec": {
   "display_name": "Python 3 (ipykernel)",
   "language": "python",
   "name": "python3"
  },
  "language_info": {
   "codemirror_mode": {
    "name": "ipython",
    "version": 3
   },
   "file_extension": ".py",
   "mimetype": "text/x-python",
   "name": "python",
   "nbconvert_exporter": "python",
   "pygments_lexer": "ipython3",
   "version": "3.8.10"
  }
 },
 "nbformat": 4,
 "nbformat_minor": 5
}
